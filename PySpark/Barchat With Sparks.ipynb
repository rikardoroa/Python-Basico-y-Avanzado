{
 "cells": [
  {
   "cell_type": "code",
   "execution_count": 1,
   "id": "controlling-acceptance",
   "metadata": {},
   "outputs": [],
   "source": [
    "##script by @rikardoroa\n",
    "## plotting Script using Python for Analytics\n",
    "\n",
    "##these are all the Libraries for this exercise\n",
    "from pyspark.sql.functions import*\n",
    "from pyspark.sql import SparkSession as Session\n",
    "from pyspark.sql.types import StructType, StructField, IntegerType, StringType\n",
    "import pandas as pd\n",
    "import numpy as np\n",
    "import matplotlib.pyplot as ptl\n",
    "from itertools import chain\n",
    "import pyspark.sql as py\n",
    "\n",
    "\n",
    "##creating the Class\n",
    "class Plotting:\n",
    "    \n",
    "    # Init the variable\n",
    "    def __init__(self, session = Session, PersonFile = pd.DataFrame,\n",
    "                JsonSparkDataFrame = py.dataframe.DataFrame, Count_mothers=int, Count_fathers=int):\n",
    "        #add the conventions\n",
    "        ##With this line we create the Spark Session\n",
    "        self.session = session.builder.master(\"spark://192.168.100.151:7077\").appName(\"PlottingApp\").getOrCreate()\n",
    "        self.PersonFile = PersonFile\n",
    "        self.JsonSparkDataFrame = JsonSparkDataFrame\n",
    "        self.Count_fathers = Count_fathers\n",
    "        self.Count_mothers = Count_mothers\n",
    "\n",
    "        \n",
    "    def Connect_session(self):\n",
    "        ##call the conventions needed for this\n",
    "        session = self.session\n",
    "        \n",
    "    def create_pandas_dataframe(self):\n",
    "        ##just reading the Dataframe Here, as simple as that\n",
    "        PersonFile = pd.read_excel(r\"D:\\DOCUMENTOS\\CRUCES FINALES\\FDATA.xlsx\")\n",
    "\n",
    "        ## we passed the convention here for the dataframe reading\n",
    "        self.PersonFile = PersonFile\n",
    "        return PersonFile.head()\n",
    "    \n",
    "    ##we need to inicialize the pandas Dataframe in the init method for the creation of json file    \n",
    "    def create_json_file(self):\n",
    "        ## also we need inicialize the spark session here too\n",
    "        session = self.session\n",
    "        PersonFile = self.PersonFile\n",
    "        PersonSparkDataframe = session.createDataFrame(PersonFile)##we need to create a Spark Dataframe\n",
    "        ##now the creation of the JsonFile\n",
    "        PersonJsonFile = PersonSparkDataframe.write.format(\"json\").option(\"header\", \"true\").mode(\"overwrite\").save(\"PersonJsonFile\")\n",
    "        return PersonJsonFile\n",
    "        \n",
    "    def read_json_file(self):\n",
    "        session = self.session\n",
    "        PersonJsonData = session.read.format(\"json\").option(\"header\", \"true\").load(\"PersonJsonFile\")\n",
    "        self.JsonSparkDataFrame = PersonJsonData\n",
    "        return PersonJsonData.show(5)\n",
    "                                   \n",
    "    def filtering_json_file_parents(self):\n",
    "        JsonSparkDataFrame = self.JsonSparkDataFrame\n",
    "        Parents = JsonSparkDataFrame.filter(col(\"PARENTESCO\")==\"PADRE\").count()\n",
    "        self.Count_fathers = Parents\n",
    "        return Parents\n",
    "                                  \n",
    "    def filtering_json_file_mothers(self):\n",
    "        JsonSparkDataFrame = self.JsonSparkDataFrame\n",
    "        Mothers = JsonSparkDataFrame.filter(col(\"PARENTESCO\")==\"MADRE\").count()\n",
    "        self.Count_mothers = Mothers\n",
    "        return Mothers\n",
    "    \n",
    "    def plotting(self):\n",
    "        Parents = self.Count_fathers\n",
    "        Mothers = self.Count_mothers\n",
    "        label = [\"Population\"]\n",
    "        width = 1\n",
    "        x = np.arange(len(label))\n",
    "        myfig = ptl.figure(figsize=(5,7))\n",
    "        plot = myfig.subplots()\n",
    "        rect1 = plot.bar(x-width/2,Parents,label=\"Parents\")\n",
    "        rect2 = plot.bar(x+width/2,Mothers,label=\"Mothers\")\n",
    "        plot.set_ylabel('Quantity')\n",
    "        plot.set_title('Total by Parent')\n",
    "        plot.set_xticks(x)\n",
    "        plot.set_xticklabels(label)\n",
    "        plot.legend()\n",
    "        for rect in chain(rect1,rect2):\n",
    "            height = rect.get_height()\n",
    "            plot.annotate('{}'.format(height),xy=(rect.get_x() + rect.get_width() / 2, height),xytext=(0,2),  \n",
    "                          textcoords=\"offset points\",ha='center', va='bottom')\n",
    "        return ptl.show()\n",
    "        \n",
    "        \n",
    "        \n",
    "           "
   ]
  },
  {
   "cell_type": "code",
   "execution_count": 2,
   "id": "packed-victor",
   "metadata": {},
   "outputs": [
    {
     "name": "stdout",
     "output_type": "stream",
     "text": [
      "+--------------+---------------+-----------+---------+---------+----------------------+--------------------+--------------------+--------+--------+-------------------+-------------------+----------+\n",
      "|   APELLIDOS_B|    APELLIDOS_T|AUXILIO_100|CATEGORIA|   ESTADO|FECHA DE FALLECIMIENTO|    FECHA DE TRAMITE|       Fecha_RAD_SUB|    ID_B|    ID_T|          NOMBRES_B|          NOMBRES_T|PARENTESCO|\n",
      "+--------------+---------------+-----------+---------+---------+----------------------+--------------------+--------------------+--------+--------+-------------------+-------------------+----------+\n",
      "|MARTINEZ BRAVO|     ASBEL JOSE|        NaN|        A|FALLECIDO|  2015-12-15T00:00:...|2020-05-26T00:00:...|2020-05-26T00:00:...|26038022|15665771|CONCEPCION DE JESUS| BENAVIDES MARTINEZ|     MADRE|\n",
      "|RUIZ DE OTERO |     OTERO RUIZ|   100000.0|        A|FALLECIDO|  2020-03-21T00:00:...|2020-05-26T00:00:...|2020-05-26T00:00:...|26158616|26160303|      MARIA CECILIA|YULIDETH DEL CARMEN|     MADRE|\n",
      "|  PEINADO DIAZ|PEINADO ARRIETA|   100000.0|        B|FALLECIDO|  2020-02-11T00:00:...|2020-06-23T00:00:...|2020-06-11T00:00:...| 6585979|30649470|    ARMANDO ANTONIO|      AMANDA ESTHER|     PADRE|\n",
      "| NAVA MARTINEZ|    RONALD JOSE|   100000.0|        A|FALLECIDO|  2020-02-11T00:00:...|2020-06-23T00:00:...|2020-06-11T00:00:...|26249929|10903544| PETRONA DEL CARMEN|        ROMERO NAVA|     MADRE|\n",
      "|MORALES DIAZ P|MORALES PERALTA|   100000.0|        A|FALLECIDO|  2020-05-03T00:00:...|2020-06-24T00:00:...|2020-06-24T00:00:...| 1540279|78716502|         PEDRO JOSE|        OSCAR JOSE |     PADRE|\n",
      "+--------------+---------------+-----------+---------+---------+----------------------+--------------------+--------------------+--------+--------+-------------------+-------------------+----------+\n",
      "only showing top 5 rows\n",
      "\n"
     ]
    },
    {
     "data": {
      "image/png": "[encoded data removed]",
      "text/plain": [
       "<Figure size 360x504 with 1 Axes>"
      ]
     },
     "metadata": {
      "needs_background": "light"
     },
     "output_type": "display_data"
    }
   ],
   "source": [
    "plotting = Plotting()\n",
    "plotting.Connect_session()\n",
    "plotting.create_pandas_dataframe()\n",
    "plotting.create_json_file()\n",
    "plotting.read_json_file()\n",
    "plotting.filtering_json_file_parents()\n",
    "plotting.filtering_json_file_mothers()\n",
    "plotting.plotting()"
   ]
  },
  {
   "cell_type": "code",
   "execution_count": null,
   "id": "arbitrary-durham",
   "metadata": {},
   "outputs": [],
   "source": []
  }
 ],
 "metadata": {
  "kernelspec": {
   "display_name": "Python 3",
   "language": "python",
   "name": "python3"
  },
  "language_info": {
   "codemirror_mode": {
    "name": "ipython",
    "version": 3
   },
   "file_extension": ".py",
   "mimetype": "text/x-python",
   "name": "python",
   "nbconvert_exporter": "python",
   "pygments_lexer": "ipython3",
   "version": "3.8.7"
  }
 },
 "nbformat": 4,
 "nbformat_minor": 5
}
