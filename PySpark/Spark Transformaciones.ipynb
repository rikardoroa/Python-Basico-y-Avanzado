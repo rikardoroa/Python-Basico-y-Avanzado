{
 "cells": [
  {
   "cell_type": "code",
   "execution_count": 270,
   "id": "refined-woman",
   "metadata": {},
   "outputs": [],
   "source": [
    "##script by @rikardoroa\n",
    "## Transformaciones con Spark\n",
    "\n",
    "from pyspark.sql.functions import*\n",
    "from pyspark.sql import SparkSession as Sesion\n",
    "import pyspark.sql as py\n",
    "from graphframes import *\n",
    "\n",
    "\n",
    "#crear la sesion en Spark\n",
    "class Spark_data():\n",
    "    \n",
    "    def __init__(self, session = Sesion, df = py.dataframe.DataFrame):\n",
    "        self.session = session.builder.master(\"spark://192.168.56.1:7077\").appName(\"Datahack_Proyecto\").getOrCreate() \n",
    "        self.df = df\n",
    "\n",
    "    def crear_sesion(self):\n",
    "        SparkSession = self.session\n",
    "        return SparkSession\n",
    "\n",
    "    #visualizar el archivo csv\n",
    "    def leer_visualizar_csv(self):\n",
    "        SparkSession = self.session\n",
    "        df = SparkSession.read.format(\"csv\")\\\n",
    "        .option(\"header\", \"true\").load(\"sf.csv\")\n",
    "        self.df = df\n",
    "        return df.show(2)\n",
    "\n",
    "    #barrios con mayor cantidad de Reportes\n",
    "    def filtro_data(self):\n",
    "        df = self.df\n",
    "        data = df.select(\"neighborhood\")\\\n",
    "        .groupBy(\"neighborhood\")\\\n",
    "        .agg(count(\"neighborhood\").alias(\"MaxCount\"))\\\n",
    "        .orderBy(\"MaxCount\",ascending=False)\n",
    "        data.createOrReplaceTempView(\"data\")\n",
    "        return data.show()\n",
    "\n",
    "    #utilizando where para filtrar los incidentes en el barrio \"Forest Knolls\"\n",
    "    def filtro_incidentes(self):\n",
    "        df = self.df\n",
    "        data_n1 = df.select(\"neighborhood\",\"source\")\\\n",
    "        .where(col(\"neighborhood\")==\"Forest Knolls\")\\\n",
    "        .groupBy(\"source\",\"neighborhood\")\\\n",
    "        .agg(count(\"source\")\\\n",
    "        .alias(\"MaxCount\"))\\\n",
    "        .orderBy(\"MaxCount\",ascending=False)\n",
    "        return data_n1.show()\n",
    "\n",
    "    #utilizando where para filtrar los incidentes cuya categoria es \"grafitti\"   \n",
    "    def filtro_incidentes_categoria(self):\n",
    "        df = self.df\n",
    "        data_n2 = df.select(\"neighborhood\",\"category\")\\\n",
    "        .where(col(\"category\")==\"Graffiti\")\\\n",
    "        .groupBy(\"neighborhood\",\"category\")\\\n",
    "        .agg(count(\"category\")\\\n",
    "        .alias(\"MaxCount\"))\\\n",
    "        .orderBy(\"MaxCount\",ascending=False)\n",
    "        return data_n2.show(3)\n",
    "\n",
    "\n",
    "    #utilizando where para filtrar los distritos de policia con mayores casos resueltos       \n",
    "    def filtro_incidentes_tipo_estado(self):\n",
    "        df = self.df\n",
    "        data_n3 = df.select(\"police_district\",\"status_notes\")\\\n",
    "        .filter((col(\"status_notes\").rlike(\"Case Resolved\")) & (~col(\"police_district\").rlike(\"null\"))&\\\n",
    "                (~col(\"police_district\").rlike(\"0|-\")))\\\n",
    "        .groupBy(\"police_district\")\\\n",
    "        .agg(count(\"status_notes\")\\\n",
    "        .alias(\"MaxCount\"))\\\n",
    "        .orderBy(\"MaxCount\",ascending=False)\n",
    "        return data_n3.show()"
   ]
  },
  {
   "cell_type": "code",
   "execution_count": 271,
   "id": "tamil-boards",
   "metadata": {},
   "outputs": [],
   "source": [
    "data = Spark_data()\n"
   ]
  },
  {
   "cell_type": "code",
   "execution_count": 272,
   "id": "nominated-unknown",
   "metadata": {},
   "outputs": [
    {
     "data": {
      "text/html": [
       "\n",
       "            <div>\n",
       "                <p><b>SparkSession - in-memory</b></p>\n",
       "                \n",
       "        <div>\n",
       "            <p><b>SparkContext</b></p>\n",
       "\n",
       "            <p><a href=\"http://RROAPC:4040\">Spark UI</a></p>\n",
       "\n",
       "            <dl>\n",
       "              <dt>Version</dt>\n",
       "                <dd><code>v3.0.1</code></dd>\n",
       "              <dt>Master</dt>\n",
       "                <dd><code>spark://192.168.56.1:7077</code></dd>\n",
       "              <dt>AppName</dt>\n",
       "                <dd><code>Datahack_Proyecto</code></dd>\n",
       "            </dl>\n",
       "        </div>\n",
       "        \n",
       "            </div>\n",
       "        "
      ],
      "text/plain": [
       "<pyspark.sql.session.SparkSession at 0x1707f3b2100>"
      ]
     },
     "execution_count": 272,
     "metadata": {},
     "output_type": "execute_result"
    }
   ],
   "source": [
    "data.crear_sesion()"
   ]
  },
  {
   "cell_type": "code",
   "execution_count": 273,
   "id": "variable-spread",
   "metadata": {},
   "outputs": [
    {
     "name": "stdout",
     "output_type": "stream",
     "text": [
      "+----------+--------------------+--------------------+------------------------------+------+--------------------+--------------------+--------------------+--------------------+--------------------+--------------------+-------------------+--------------------+--------------------+------+--------------------+------------------+--------------------+---------------+----------------------+\n",
      "|unique_key|        created_date|         closed_date|resolution_action_updated_date|status|        status_notes|         agency_name|            category|      complaint_type|          descriptor|    incident_address|supervisor_district|        neighborhood|            location|source|           media_url|          latitude|           longitude|police_district|neighborhood_center_ds|\n",
      "+----------+--------------------+--------------------+------------------------------+------+--------------------+--------------------+--------------------+--------------------+--------------------+--------------------+-------------------+--------------------+--------------------+------+--------------------+------------------+--------------------+---------------+----------------------+\n",
      "|    732306|2010-09-14 07:48:...|2010-09-17 13:18:...|          2010-09-17 13:18:...|Closed|See Notes tab for...|       DPW Ops Queue|Street and Sidewa...|Missed_Route_Mech...|Missed_Route_Mech...|100 SAN PABLO AVE...|                  7|    St. Francis Wood|(37.73830414, -12...| Phone|                null|37.738.304.138.184|-122.462.524.414.063|        TARAVAL|  37.73627131995746...|\n",
      "|   6912514|2017-03-07 13:58:...|2017-03-14 22:30:...|          2017-03-14 22:30:...|Closed|Case Transferred ...|311 Service Reque...|Rec and Park Requ...|  Park - Park_Patrol|               Other|Julius Kahn Playg...|                  2|Presidio National...|(37.7911591, -122...|   Web|http://mobile311....|       377.911.591|      -1.224.539.888|           null|  37.79741610314003...|\n",
      "+----------+--------------------+--------------------+------------------------------+------+--------------------+--------------------+--------------------+--------------------+--------------------+--------------------+-------------------+--------------------+--------------------+------+--------------------+------------------+--------------------+---------------+----------------------+\n",
      "only showing top 2 rows\n",
      "\n"
     ]
    }
   ],
   "source": [
    "data.leer_visualizar_csv()"
   ]
  },
  {
   "cell_type": "code",
   "execution_count": 274,
   "id": "pharmaceutical-festival",
   "metadata": {},
   "outputs": [
    {
     "name": "stdout",
     "output_type": "stream",
     "text": [
      "+--------------------+--------+\n",
      "|        neighborhood|MaxCount|\n",
      "+--------------------+--------+\n",
      "|           Sunnyside|     445|\n",
      "|          Holly Park|     445|\n",
      "|      Merced Heights|     403|\n",
      "|  Central Waterfront|     394|\n",
      "|       Hunters Point|     393|\n",
      "|         Rincon Hill|     382|\n",
      "|           Sunnydale|     359|\n",
      "|         Cole Valley|     357|\n",
      "|         Mission Bay|     355|\n",
      "|      Produce Market|     353|\n",
      "|       Outer Mission|     348|\n",
      "|         South Beach|     345|\n",
      "|           Mint Hill|     321|\n",
      "|        Alamo Square|     320|\n",
      "|Laurel Heights / ...|     315|\n",
      "|           Japantown|     302|\n",
      "|           Glen Park|     281|\n",
      "|     Peralta Heights|     258|\n",
      "|            Dogpatch|     255|\n",
      "|        Upper Market|     251|\n",
      "+--------------------+--------+\n",
      "only showing top 20 rows\n",
      "\n"
     ]
    }
   ],
   "source": [
    "data.filtro_data()"
   ]
  },
  {
   "cell_type": "code",
   "execution_count": 275,
   "id": "adverse-settlement",
   "metadata": {},
   "outputs": [
    {
     "name": "stdout",
     "output_type": "stream",
     "text": [
      "+--------------+-------------+--------+\n",
      "|        source| neighborhood|MaxCount|\n",
      "+--------------+-------------+--------+\n",
      "|         Phone|Forest Knolls|      48|\n",
      "|           Web|Forest Knolls|      14|\n",
      "|Mobile/Open311|Forest Knolls|      14|\n",
      "+--------------+-------------+--------+\n",
      "\n"
     ]
    }
   ],
   "source": [
    "data.filtro_incidentes()"
   ]
  },
  {
   "cell_type": "code",
   "execution_count": 276,
   "id": "fitting-spider",
   "metadata": {},
   "outputs": [
    {
     "name": "stdout",
     "output_type": "stream",
     "text": [
      "+--------------------+--------+--------+\n",
      "|        neighborhood|category|MaxCount|\n",
      "+--------------------+--------+--------+\n",
      "|        Alamo Square|Graffiti|      89|\n",
      "|         Cole Valley|Graffiti|      85|\n",
      "|Laurel Heights / ...|Graffiti|      65|\n",
      "+--------------------+--------+--------+\n",
      "only showing top 3 rows\n",
      "\n"
     ]
    }
   ],
   "source": [
    "data.filtro_incidentes_categoria()"
   ]
  },
  {
   "cell_type": "code",
   "execution_count": 277,
   "id": "furnished-supply",
   "metadata": {},
   "outputs": [
    {
     "name": "stdout",
     "output_type": "stream",
     "text": [
      "+---------------+--------+\n",
      "|police_district|MaxCount|\n",
      "+---------------+--------+\n",
      "|      INGLESIDE|    1469|\n",
      "|        BAYVIEW|     964|\n",
      "|           PARK|     801|\n",
      "|        TARAVAL|     756|\n",
      "|       SOUTHERN|     624|\n",
      "|       RICHMOND|     549|\n",
      "|       NORTHERN|     548|\n",
      "|        CENTRAL|     433|\n",
      "|        MISSION|     208|\n",
      "+---------------+--------+\n",
      "\n"
     ]
    }
   ],
   "source": [
    "data.filtro_incidentes_tipo_estado()"
   ]
  },
  {
   "cell_type": "code",
   "execution_count": null,
   "id": "undefined-knitting",
   "metadata": {},
   "outputs": [],
   "source": []
  },
  {
   "cell_type": "code",
   "execution_count": null,
   "id": "dried-chapel",
   "metadata": {},
   "outputs": [],
   "source": []
  },
  {
   "cell_type": "code",
   "execution_count": null,
   "id": "absolute-crowd",
   "metadata": {},
   "outputs": [],
   "source": []
  }
 ],
 "metadata": {
  "kernelspec": {
   "display_name": "Python 3",
   "language": "python",
   "name": "python3"
  },
  "language_info": {
   "codemirror_mode": {
    "name": "ipython",
    "version": 3
   },
   "file_extension": ".py",
   "mimetype": "text/x-python",
   "name": "python",
   "nbconvert_exporter": "python",
   "pygments_lexer": "ipython3",
   "version": "3.8.7"
  }
 },
 "nbformat": 4,
 "nbformat_minor": 5
}
