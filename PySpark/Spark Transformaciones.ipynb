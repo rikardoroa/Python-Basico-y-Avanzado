{
 "cells": [
  {
   "cell_type": "code",
   "execution_count": 1,
   "id": "explicit-gambling",
   "metadata": {},
   "outputs": [],
   "source": [
    "##script by @rikardoroa\n",
    "## Transformaciones con Spark\n",
    "\n",
    "from pyspark.sql.functions import*\n",
    "from pyspark.sql import SparkSession as Sesion\n",
    "import pyspark.sql as py\n",
    "from graphframes import *\n",
    "\n",
    "\n",
    "#crear la sesion en Spark\n",
    "class Spark_data():\n",
    "    \n",
    "    def __init__(self, session = Sesion, df = py.dataframe.DataFrame):\n",
    "        self.session = session.builder.master(\"spark://192.168.56.1:7077\").appName(\"Datahack_Proyecto\").getOrCreate() \n",
    "        self.df = df\n",
    "\n",
    "    def crear_sesion(self):\n",
    "        SparkSession = self.session\n",
    "        return SparkSession\n",
    "\n",
    "    #visualizar el archivo csv\n",
    "    def leer_visualizar_csv(self):\n",
    "        SparkSession = self.session\n",
    "        df = SparkSession.read.format(\"csv\")\\\n",
    "        .option(\"header\", \"true\").load(\"sf.csv\")\n",
    "        self.df = df\n",
    "        return df.show(2)\n",
    "\n",
    "    #barrios con mayor cantidad de Reportes\n",
    "    def filtro_data(self):\n",
    "        df = self.df\n",
    "        data = df.select(\"neighborhood\")\\\n",
    "        .groupBy(\"neighborhood\")\\\n",
    "        .agg(count(\"neighborhood\").alias(\"MaxCount\"))\\\n",
    "        .orderBy(\"MaxCount\",ascending=False)\n",
    "        data.createOrReplaceTempView(\"data\")\n",
    "        return data.show()\n",
    "\n",
    "    #utilizando where para filtrar los incidentes en el barrio \"Forest Knolls\"\n",
    "    def filtro_incidentes(self):\n",
    "        df = self.df\n",
    "        data_n1 = df.select(\"neighborhood\",\"source\")\\\n",
    "        .where(col(\"neighborhood\")==\"Forest Knolls\")\\\n",
    "        .groupBy(\"source\",\"neighborhood\")\\\n",
    "        .agg(count(\"source\")\\\n",
    "        .alias(\"MaxCount\"))\\\n",
    "        .orderBy(\"MaxCount\",ascending=False)\n",
    "        return data_n1.show()\n",
    "\n",
    "    #utilizando where para filtrar los incidentes cuya categoria es \"grafitti\"   \n",
    "    def filtro_incidentes_categoria(self):\n",
    "        df = self.df\n",
    "        data_n2 = df.select(\"neighborhood\",\"category\")\\\n",
    "        .where(col(\"category\")==\"Graffiti\")\\\n",
    "        .groupBy(\"neighborhood\",\"category\")\\\n",
    "        .agg(count(\"category\")\\\n",
    "        .alias(\"MaxCount\"))\\\n",
    "        .orderBy(\"MaxCount\",ascending=False)\n",
    "        return data_n2.show(3)\n",
    "\n",
    "    #utilizando where para filtrar los distritos de policia con mayores casos resueltos (forma 1 no tan exacta)   \n",
    "    def filtro_incidentes_tipo_estado(self):\n",
    "        df = self.df\n",
    "        data_n3 = df.select(\"police_district\",\"status_notes\")\\\n",
    "        .where(col(\"status_notes\")==\"Case Resolved\")\\\n",
    "        .groupBy(\"police_district\")\\\n",
    "        .agg(count(\"status_notes\")\\\n",
    "        .alias(\"MaxCount\"))\\\n",
    "        .orderBy(\"MaxCount\",ascending=False)\n",
    "        return data_n3.show()\n",
    "\n",
    "\n",
    "    #utilizando where para filtrar los distritos de policia con mayores casos resueltos (forma 2 mas exacta, faltan algunas depuraciones)      \n",
    "    def filtro_incidentes_tipo_estado2(self):\n",
    "        df = self.df\n",
    "        data_n3 = df.select(\"police_district\",\"status_notes\")\\\n",
    "        .filter(df['status_notes'].rlike(\"Case Resolved\"))\\\n",
    "        .groupBy(\"police_district\")\\\n",
    "        .agg(count(\"status_notes\")\\\n",
    "        .alias(\"MaxCount\"))\\\n",
    "        .orderBy(\"MaxCount\",ascending=False)\n",
    "        return data_n3.show()"
   ]
  },
  {
   "cell_type": "code",
   "execution_count": 2,
   "id": "regular-laser",
   "metadata": {},
   "outputs": [],
   "source": [
    "data = Spark_data()\n"
   ]
  },
  {
   "cell_type": "code",
   "execution_count": 3,
   "id": "polar-trunk",
   "metadata": {},
   "outputs": [
    {
     "data": {
      "text/html": [
       "\n",
       "            <div>\n",
       "                <p><b>SparkSession - in-memory</b></p>\n",
       "                \n",
       "        <div>\n",
       "            <p><b>SparkContext</b></p>\n",
       "\n",
       "            <p><a href=\"http://RROAPC:4040\">Spark UI</a></p>\n",
       "\n",
       "            <dl>\n",
       "              <dt>Version</dt>\n",
       "                <dd><code>v3.0.1</code></dd>\n",
       "              <dt>Master</dt>\n",
       "                <dd><code>spark://192.168.56.1:7077</code></dd>\n",
       "              <dt>AppName</dt>\n",
       "                <dd><code>Datahack_Proyecto</code></dd>\n",
       "            </dl>\n",
       "        </div>\n",
       "        \n",
       "            </div>\n",
       "        "
      ],
      "text/plain": [
       "<pyspark.sql.session.SparkSession at 0x23c3b7cb070>"
      ]
     },
     "execution_count": 3,
     "metadata": {},
     "output_type": "execute_result"
    }
   ],
   "source": [
    "data.crear_sesion()"
   ]
  },
  {
   "cell_type": "code",
   "execution_count": null,
   "id": "similar-pride",
   "metadata": {},
   "outputs": [],
   "source": [
    "data.leer_visualizar_csv()"
   ]
  },
  {
   "cell_type": "code",
   "execution_count": null,
   "id": "abstract-enlargement",
   "metadata": {},
   "outputs": [],
   "source": [
    "data.filtro_data()"
   ]
  },
  {
   "cell_type": "code",
   "execution_count": null,
   "id": "comprehensive-introduction",
   "metadata": {},
   "outputs": [],
   "source": [
    "data.filtro_incidentes()"
   ]
  },
  {
   "cell_type": "code",
   "execution_count": null,
   "id": "governmental-ownership",
   "metadata": {},
   "outputs": [],
   "source": [
    "data.filtro_incidentes_categoria()"
   ]
  },
  {
   "cell_type": "code",
   "execution_count": null,
   "id": "exposed-theta",
   "metadata": {},
   "outputs": [],
   "source": [
    "data.filtro_incidentes_tipo_estado()"
   ]
  },
  {
   "cell_type": "code",
   "execution_count": null,
   "id": "frozen-royalty",
   "metadata": {},
   "outputs": [],
   "source": [
    "data.filtro_incidentes_tipo_estado2()"
   ]
  },
  {
   "cell_type": "code",
   "execution_count": null,
   "id": "polish-terminology",
   "metadata": {},
   "outputs": [],
   "source": []
  }
 ],
 "metadata": {
  "kernelspec": {
   "display_name": "Python 3",
   "language": "python",
   "name": "python3"
  },
  "language_info": {
   "codemirror_mode": {
    "name": "ipython",
    "version": 3
   },
   "file_extension": ".py",
   "mimetype": "text/x-python",
   "name": "python",
   "nbconvert_exporter": "python",
   "pygments_lexer": "ipython3",
   "version": "3.8.7"
  }
 },
 "nbformat": 4,
 "nbformat_minor": 5
}
