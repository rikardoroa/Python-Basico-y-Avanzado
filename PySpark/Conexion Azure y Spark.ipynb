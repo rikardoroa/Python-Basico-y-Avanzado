{
 "cells": [
  {
   "cell_type": "code",
   "execution_count": 1,
   "id": "final-poverty",
   "metadata": {},
   "outputs": [
    {
     "data": {
      "text/plain": [
       "pandas.core.frame.DataFrame"
      ]
     },
     "execution_count": 1,
     "metadata": {},
     "output_type": "execute_result"
    }
   ],
   "source": [
    "# Script by @rikardoroa\n",
    "\n",
    "import pandas as pd\n",
    "from azure.storage.blob import BlockBlobService\n",
    "import pyspark\n",
    "\n",
    "\n",
    "def create_spark_session():\n",
    "    spark_session = pyspark.SparkContext(master=\"spark://192.168.100.151:7077\", appName=\"MySparkapp\")\n",
    "    return spark_session\n",
    "\n",
    "\n",
    "def create_azure_session():\n",
    "    key = \"DzgVvdSXk76OPtNV0Dmf7JVltfnWo6cMDPJa95Bq/ReVpwaAnJdGksFL33fsHH6xz+ES7ZU9cbvxVCZFDHBbhA==\"\n",
    "    cuenta = \"ranalytics7\"\n",
    "    contenedor = \"data\"\n",
    "    archivo = \"AAPL.csv\"\n",
    "    blobname = \"AAPL.csv\"\n",
    "    azure_session = BlockBlobService(account_name=cuenta, account_key=key)\n",
    "    azure_session.get_blob_to_path(container_name=contenedor, blob_name=blobname, file_path=archivo)\n",
    "    azure_dataframe = pd.read_csv(archivo)\n",
    "    return type(azure_dataframe)\n",
    "\n",
    "create_spark_session()\n",
    "create_azure_session()"
   ]
  },
  {
   "cell_type": "code",
   "execution_count": 2,
   "id": "african-serial",
   "metadata": {},
   "outputs": [
    {
     "ename": "NameError",
     "evalue": "name 'Azure_Spark_Analysis' is not defined",
     "output_type": "error",
     "traceback": [
      "\u001b[1;31m---------------------------------------------------------------------------\u001b[0m",
      "\u001b[1;31mNameError\u001b[0m                                 Traceback (most recent call last)",
      "\u001b[1;32m<ipython-input-2-902e419fcf56>\u001b[0m in \u001b[0;36m<module>\u001b[1;34m\u001b[0m\n\u001b[1;32m----> 1\u001b[1;33m \u001b[0mspark_session\u001b[0m \u001b[1;33m=\u001b[0m \u001b[0mAzure_Spark_Analysis\u001b[0m\u001b[1;33m(\u001b[0m\u001b[1;33m)\u001b[0m\u001b[1;33m\u001b[0m\u001b[1;33m\u001b[0m\u001b[0m\n\u001b[0m\u001b[0;32m      2\u001b[0m \u001b[0mspark_session\u001b[0m\u001b[1;33m.\u001b[0m\u001b[0mcreate_spark_session\u001b[0m\u001b[1;33m(\u001b[0m\u001b[1;33m)\u001b[0m\u001b[1;33m\u001b[0m\u001b[1;33m\u001b[0m\u001b[0m\n\u001b[0;32m      3\u001b[0m \u001b[0mspark_session\u001b[0m\u001b[1;33m.\u001b[0m\u001b[0mcreate_azure_session\u001b[0m\u001b[1;33m(\u001b[0m\u001b[1;33m)\u001b[0m\u001b[1;33m\u001b[0m\u001b[1;33m\u001b[0m\u001b[0m\n",
      "\u001b[1;31mNameError\u001b[0m: name 'Azure_Spark_Analysis' is not defined"
     ]
    }
   ],
   "source": [
    "spark_session = Azure_Spark_Analysis()\n",
    "spark_session.create_spark_session()\n",
    "spark_session.create_azure_session()"
   ]
  },
  {
   "cell_type": "code",
   "execution_count": null,
   "id": "current-mobile",
   "metadata": {},
   "outputs": [],
   "source": []
  }
 ],
 "metadata": {
  "kernelspec": {
   "display_name": "Python 3",
   "language": "python",
   "name": "python3"
  },
  "language_info": {
   "codemirror_mode": {
    "name": "ipython",
    "version": 3
   },
   "file_extension": ".py",
   "mimetype": "text/x-python",
   "name": "python",
   "nbconvert_exporter": "python",
   "pygments_lexer": "ipython3",
   "version": "3.8.7"
  }
 },
 "nbformat": 4,
 "nbformat_minor": 5
}
