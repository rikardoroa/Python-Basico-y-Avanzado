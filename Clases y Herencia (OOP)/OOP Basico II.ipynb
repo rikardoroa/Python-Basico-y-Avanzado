{
 "cells": [
  {
   "cell_type": "code",
   "execution_count": 1,
   "metadata": {},
   "outputs": [],
   "source": [
    "class salario:\n",
    "    \n",
    "    \n",
    "    def __init__(self, pago_salario=int):\n",
    "        \n",
    "        self.pago_salario = pago_salario \n",
    "    \n",
    "    def sueldo(self):\n",
    "    \n",
    "        aumento = 2000000 * 0.02 + 2000000\n",
    "        pago_salario = aumento * 0.03 + aumento\n",
    "        self.pago_salario = pago_salario\n",
    "        return int(self.pago_salario)\n",
    "    \n",
    "class bono(salario):\n",
    "    \n",
    "    \n",
    "    def __init(self, mbono=int):\n",
    "        self.mbono = mbono\n",
    "        salario.__init__(self,sueldo())\n",
    "        \n",
    "    def pago_bono(self):\n",
    "        mbono = 300000\n",
    "        self.mbono = mbono\n",
    "        pago_bono = self.mbono + self.sueldo()\n",
    "        return  pago_bono\n",
    "\n",
    "\n",
    "\n",
    "        \n",
    "    \n",
    "    "
   ]
  },
  {
   "cell_type": "code",
   "execution_count": 2,
   "metadata": {},
   "outputs": [
    {
     "data": {
      "text/plain": [
       "2101200"
      ]
     },
     "execution_count": 2,
     "metadata": {},
     "output_type": "execute_result"
    }
   ],
   "source": [
    "sueldo = salario()\n",
    "sueldo.sueldo()\n"
   ]
  },
  {
   "cell_type": "code",
   "execution_count": 3,
   "metadata": {},
   "outputs": [
    {
     "data": {
      "text/plain": [
       "2401200"
      ]
     },
     "execution_count": 3,
     "metadata": {},
     "output_type": "execute_result"
    }
   ],
   "source": [
    "pago = bono()\n",
    "pago.pago_bono()"
   ]
  },
  {
   "cell_type": "code",
   "execution_count": null,
   "metadata": {},
   "outputs": [],
   "source": []
  },
  {
   "cell_type": "code",
   "execution_count": null,
   "metadata": {},
   "outputs": [],
   "source": []
  }
 ],
 "metadata": {
  "kernelspec": {
   "display_name": "Python 3",
   "language": "python",
   "name": "python3"
  },
  "language_info": {
   "codemirror_mode": {
    "name": "ipython",
    "version": 3
   },
   "file_extension": ".py",
   "mimetype": "text/x-python",
   "name": "python",
   "nbconvert_exporter": "python",
   "pygments_lexer": "ipython3",
   "version": "3.8.7"
  }
 },
 "nbformat": 4,
 "nbformat_minor": 4
}
