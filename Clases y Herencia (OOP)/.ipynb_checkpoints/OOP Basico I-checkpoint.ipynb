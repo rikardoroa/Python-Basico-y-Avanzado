{
 "cells": [
  {
   "cell_type": "code",
   "execution_count": 1,
   "metadata": {},
   "outputs": [],
   "source": [
    "class pago():\n",
    "    \n",
    "    def __init__(self, pago=int):\n",
    "        self.pago = 2000000\n",
    "        \n",
    "    def pago_inicial(self):\n",
    "        pago = self.pago\n",
    "        return pago\n",
    "    \n",
    "class pago_copy(pago):\n",
    "    \n",
    "    def __init__(self, mipago=int):\n",
    "        self.mipago = 3000000\n",
    "        pago.__init__(self, pago)\n",
    "    \n",
    "    def pago_final(self):\n",
    "        mipago = self.mipago\n",
    "        pago_total = mipago + self.pago\n",
    "        return pago_total\n",
    "    "
   ]
  },
  {
   "cell_type": "code",
   "execution_count": 2,
   "metadata": {},
   "outputs": [
    {
     "data": {
      "text/plain": [
       "2000000"
      ]
     },
     "execution_count": 2,
     "metadata": {},
     "output_type": "execute_result"
    }
   ],
   "source": [
    "pagar = pago()\n",
    "pagar.pago_inicial()"
   ]
  },
  {
   "cell_type": "code",
   "execution_count": 3,
   "metadata": {},
   "outputs": [
    {
     "data": {
      "text/plain": [
       "5000000"
      ]
     },
     "execution_count": 3,
     "metadata": {},
     "output_type": "execute_result"
    }
   ],
   "source": [
    "pagarp = pago_copy()\n",
    "pagarp.pago_final()"
   ]
  },
  {
   "cell_type": "code",
   "execution_count": null,
   "metadata": {},
   "outputs": [],
   "source": []
  }
 ],
 "metadata": {
  "kernelspec": {
   "display_name": "Python 3",
   "language": "python",
   "name": "python3"
  },
  "language_info": {
   "codemirror_mode": {
    "name": "ipython",
    "version": 3
   },
   "file_extension": ".py",
   "mimetype": "text/x-python",
   "name": "python",
   "nbconvert_exporter": "python",
   "pygments_lexer": "ipython3",
   "version": "3.8.7"
  }
 },
 "nbformat": 4,
 "nbformat_minor": 4
}
