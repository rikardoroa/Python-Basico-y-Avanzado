{
 "cells": [
  {
   "cell_type": "code",
   "execution_count": 1,
   "metadata": {},
   "outputs": [
    {
     "name": "stdout",
     "output_type": "stream",
     "text": [
      "Rojo\n",
      "Mazda\n",
      "2021\n",
      "2500000\n",
      "Ricardo Roa\n"
     ]
    },
    {
     "data": {
      "text/plain": [
       "3000000"
      ]
     },
     "execution_count": 1,
     "metadata": {},
     "output_type": "execute_result"
    }
   ],
   "source": [
    "class micarro:\n",
    "    def __init__(self, color, marca, modelo, costo, chofer):\n",
    "        \n",
    "        self.color=color\n",
    "        self.marca=marca\n",
    "        self.modelo=modelo\n",
    "        self.costo=costo\n",
    "        self.chofer=chofer\n",
    "        \n",
    "    def precio_depreciado(self, año ):\n",
    "        costo=self.costo\n",
    "        self.año = año\n",
    "        if self.año >= 2020:\n",
    "            nuevo_costo = costo + 500000;\n",
    "        else:\n",
    "            nuevo_costo = costo - 500000;\n",
    "        return nuevo_costo\n",
    "\n",
    "\n",
    "Mazda = micarro(\"Rojo\",\"Mazda\",2021,2500000,\"Ricardo Roa\")\n",
    "\n",
    "print(Mazda.color)\n",
    "print(Mazda.marca)\n",
    "print(Mazda.modelo)\n",
    "print(Mazda.costo)\n",
    "print(Mazda.chofer)\n",
    "\n",
    "\n",
    "Mazda.precio_depreciado(2020)\n",
    "\n",
    "    "
   ]
  },
  {
   "cell_type": "code",
   "execution_count": null,
   "metadata": {},
   "outputs": [],
   "source": []
  }
 ],
 "metadata": {
  "kernelspec": {
   "display_name": "Python 3",
   "language": "python",
   "name": "python3"
  },
  "language_info": {
   "codemirror_mode": {
    "name": "ipython",
    "version": 3
   },
   "file_extension": ".py",
   "mimetype": "text/x-python",
   "name": "python",
   "nbconvert_exporter": "python",
   "pygments_lexer": "ipython3",
   "version": "3.8.7"
  }
 },
 "nbformat": 4,
 "nbformat_minor": 4
}
