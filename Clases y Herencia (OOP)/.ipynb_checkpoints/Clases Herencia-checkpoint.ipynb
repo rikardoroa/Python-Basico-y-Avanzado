{
 "cells": [
  {
   "cell_type": "code",
   "execution_count": 1,
   "metadata": {},
   "outputs": [],
   "source": [
    "\"\"\"@rikardoroa Python Basico\"\"\"\n",
    "\"\"\" Scripts by @rikardoroa\"\"\"\n",
    "\"\"\"Clases y Herencia\"\"\"\n",
    "\n",
    "\n",
    "from IPython.display import display, HTML\n",
    "\n",
    "class color():\n",
    "    \n",
    "    def __init__(self, mi_color=str, color_verde=str):\n",
    "        self.mi_color = \"azul\"\n",
    "        self.color_verde=\"verde\"\n",
    "        \n",
    "    def definir_color(self):\n",
    "        mi_color = self.mi_color\n",
    "        color_verde = self.color_verde\n",
    "        return mi_color, color_verde\n",
    "    \n",
    "class replica_color(color):\n",
    "    \n",
    "    \n",
    "    def __init__(self, otro_color=str):\n",
    "        self.otro_color = \"rojo\"\n",
    "        color.__init__(self, mi_color=str)\n",
    "        \n",
    "    def r_micolor(self):\n",
    "        otro_color = self.otro_color\n",
    "        mi_color =  self.mi_color\n",
    "        \n",
    "        return  otro_color, mi_color\n",
    "        \n",
    "        "
   ]
  },
  {
   "cell_type": "code",
   "execution_count": 6,
   "metadata": {},
   "outputs": [
    {
     "data": {
      "text/html": [
       "<a href=\"https://dataplatform.cloud.ibm.com/analytics/notebooks/v2/afe0b82e-14fa-4272-acbd-b54b1838ae27?projectid=b27953fc-44ce-49ea-baa9-724de14f745f&context=cpdaas\">Clases y Herencia Basico</a>"
      ],
      "text/plain": [
       "<IPython.core.display.HTML object>"
      ]
     },
     "metadata": {},
     "output_type": "display_data"
    }
   ],
   "source": [
    "\"\"\" para ejecutar estos scrips, dirijase al sitio web\"\"\" \n",
    "\n",
    "display(HTML('<a href=\"https://dataplatform.cloud.ibm.com/analytics/notebooks/v2/afe0b82e-14fa-4272-acbd-b54b1838ae27?projectid=b27953fc-44ce-49ea-baa9-724de14f745f&context=cpdaas\">Clases y Herencia Basico</a>'))\n"
   ]
  },
  {
   "cell_type": "code",
   "execution_count": null,
   "metadata": {},
   "outputs": [],
   "source": []
  },
  {
   "cell_type": "code",
   "execution_count": null,
   "metadata": {},
   "outputs": [],
   "source": []
  }
 ],
 "metadata": {
  "kernelspec": {
   "display_name": "Python 3",
   "language": "python",
   "name": "python3"
  },
  "language_info": {
   "codemirror_mode": {
    "name": "ipython",
    "version": 3
   },
   "file_extension": ".py",
   "mimetype": "text/x-python",
   "name": "python",
   "nbconvert_exporter": "python",
   "pygments_lexer": "ipython3",
   "version": "3.7.9"
  }
 },
 "nbformat": 4,
 "nbformat_minor": 4
}
