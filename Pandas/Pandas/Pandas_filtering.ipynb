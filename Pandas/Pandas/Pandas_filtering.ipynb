{
 "cells": [
  {
   "cell_type": "code",
   "execution_count": 21,
   "id": "latin-genetics",
   "metadata": {},
   "outputs": [],
   "source": [
    "#script by rikardoroa\n",
    "#script date 22/09/2021\n",
    "#just python it!!\n",
    "\n",
    "import pandas as pd \n",
    "import numpy as np\n",
    "\n",
    "\n",
    "class new_dataframe:\n",
    "    \n",
    "    \n",
    "    def __init__(self, lst=['Java', 'Python', 'C', 'C++', 'JavaScript', 'Swift', 'Go']):\n",
    "        \n",
    "        self.lst  = lst\n",
    "        \n",
    "    \n",
    "    def dataframe_processing_t1(self): #index filtering\n",
    "        \n",
    "        lst = self.lst\n",
    "        dframe = pd.DataFrame(lst,columns=['Data'])  \n",
    "        dframe_target = pd.DataFrame(columns=['Data'])   \n",
    "\n",
    "\n",
    "        for index in dframe.index:\n",
    "            if (dframe.loc[index]).any() == 'Java' or (dframe.loc[index]).any() == 'JavaScript':\n",
    "                dframe_target.loc[index]=dframe.loc[index]\n",
    "\n",
    "        for index_k in dframe_target.index:\n",
    "            for index in dframe.index:\n",
    "                if (dframe.loc[index] == dframe_target.loc[index_k]).any() is True:\n",
    "                    dframe_target.loc[index_k] =  dframe.loc[index]\n",
    "                    \n",
    "        dframe_target.reset_index(drop=True, inplace=True)     \n",
    "        return dframe_target.head()\n",
    "    \n",
    "    \n",
    "    def dataframe_processing_t2(self): #Df filtering\n",
    "        \n",
    "        lst = self.lst\n",
    "        dframe = pd.DataFrame(lst,columns=['Data'])  \n",
    "        dframe_target = pd.DataFrame(columns=['Data'])  \n",
    "        dframe_target  = dframe[(dframe['Data']=='Java')|(dframe['Data']=='JavaScript')]\n",
    "        dframe_target.reset_index(drop=True, inplace=True)\n",
    "        return dframe_target.head()\n",
    "  \n",
    "                \n",
    "    def dataframe_processing_t3(self): #loc filtering\n",
    "       \n",
    "        lst = self.lst\n",
    "        dframe = pd.DataFrame(lst,columns=['Data'])  \n",
    "        dframe_target = pd.DataFrame(columns=['Data'])  \n",
    "        dframe_target = dframe.loc[(dframe.Data =='Java')|(dframe.Data =='JavaScript'), :]\n",
    "        dframe_target.reset_index(drop=True, inplace=True)                               \n",
    "        return dframe_target.head()\n",
    "    \n",
    "    \n",
    "    def dataframe_processing_t4(self): #query filtering\n",
    "       \n",
    "        lst = self.lst\n",
    "        dframe = pd.DataFrame(lst,columns=['Data'])  \n",
    "        dframe_target = pd.DataFrame(columns=['Data'])  \n",
    "        dframe_target = dframe.query(\"Data == 'Java' or Data == 'JavaScript'\")\n",
    "        dframe_target.reset_index(drop=True, inplace=True)                               \n",
    "        return dframe_target.head()\n",
    "     \n",
    "        \n",
    "    def dataframe_processing_t5(self): #numpy where filtering\n",
    "       \n",
    "        lst = self.lst\n",
    "        dframe = pd.DataFrame(lst,columns=['Data'])  \n",
    "        dframe_target = pd.DataFrame(columns=['Data'])  \n",
    "        filter_data = np.where((dframe['Data']=='Java') | (dframe['Data']=='JavaScript')) \n",
    "        dframe_target = dframe.loc[filter_data]\n",
    "        dframe_target.reset_index(drop=True, inplace=True)                               \n",
    "        return dframe_target.head()\n",
    "      "
   ]
  },
  {
   "cell_type": "code",
   "execution_count": 22,
   "id": "accredited-engineer",
   "metadata": {},
   "outputs": [
    {
     "data": {
      "text/html": [
       "<div>\n",
       "<style scoped>\n",
       "    .dataframe tbody tr th:only-of-type {\n",
       "        vertical-align: middle;\n",
       "    }\n",
       "\n",
       "    .dataframe tbody tr th {\n",
       "        vertical-align: top;\n",
       "    }\n",
       "\n",
       "    .dataframe thead th {\n",
       "        text-align: right;\n",
       "    }\n",
       "</style>\n",
       "<table border=\"1\" class=\"dataframe\">\n",
       "  <thead>\n",
       "    <tr style=\"text-align: right;\">\n",
       "      <th></th>\n",
       "      <th>Data</th>\n",
       "    </tr>\n",
       "  </thead>\n",
       "  <tbody>\n",
       "    <tr>\n",
       "      <th>0</th>\n",
       "      <td>Java</td>\n",
       "    </tr>\n",
       "    <tr>\n",
       "      <th>1</th>\n",
       "      <td>JavaScript</td>\n",
       "    </tr>\n",
       "  </tbody>\n",
       "</table>\n",
       "</div>"
      ],
      "text/plain": [
       "         Data\n",
       "0        Java\n",
       "1  JavaScript"
      ]
     },
     "execution_count": 22,
     "metadata": {},
     "output_type": "execute_result"
    }
   ],
   "source": [
    "Print_data = new_dataframe()\n",
    "Print_data.dataframe_processing_t1()"
   ]
  },
  {
   "cell_type": "code",
   "execution_count": 23,
   "id": "retained-qatar",
   "metadata": {},
   "outputs": [
    {
     "data": {
      "text/html": [
       "<div>\n",
       "<style scoped>\n",
       "    .dataframe tbody tr th:only-of-type {\n",
       "        vertical-align: middle;\n",
       "    }\n",
       "\n",
       "    .dataframe tbody tr th {\n",
       "        vertical-align: top;\n",
       "    }\n",
       "\n",
       "    .dataframe thead th {\n",
       "        text-align: right;\n",
       "    }\n",
       "</style>\n",
       "<table border=\"1\" class=\"dataframe\">\n",
       "  <thead>\n",
       "    <tr style=\"text-align: right;\">\n",
       "      <th></th>\n",
       "      <th>Data</th>\n",
       "    </tr>\n",
       "  </thead>\n",
       "  <tbody>\n",
       "    <tr>\n",
       "      <th>0</th>\n",
       "      <td>Java</td>\n",
       "    </tr>\n",
       "    <tr>\n",
       "      <th>1</th>\n",
       "      <td>JavaScript</td>\n",
       "    </tr>\n",
       "  </tbody>\n",
       "</table>\n",
       "</div>"
      ],
      "text/plain": [
       "         Data\n",
       "0        Java\n",
       "1  JavaScript"
      ]
     },
     "execution_count": 23,
     "metadata": {},
     "output_type": "execute_result"
    }
   ],
   "source": [
    "Print_data.dataframe_processing_t2()"
   ]
  },
  {
   "cell_type": "code",
   "execution_count": 24,
   "id": "possible-letters",
   "metadata": {},
   "outputs": [
    {
     "data": {
      "text/html": [
       "<div>\n",
       "<style scoped>\n",
       "    .dataframe tbody tr th:only-of-type {\n",
       "        vertical-align: middle;\n",
       "    }\n",
       "\n",
       "    .dataframe tbody tr th {\n",
       "        vertical-align: top;\n",
       "    }\n",
       "\n",
       "    .dataframe thead th {\n",
       "        text-align: right;\n",
       "    }\n",
       "</style>\n",
       "<table border=\"1\" class=\"dataframe\">\n",
       "  <thead>\n",
       "    <tr style=\"text-align: right;\">\n",
       "      <th></th>\n",
       "      <th>Data</th>\n",
       "    </tr>\n",
       "  </thead>\n",
       "  <tbody>\n",
       "    <tr>\n",
       "      <th>0</th>\n",
       "      <td>Java</td>\n",
       "    </tr>\n",
       "    <tr>\n",
       "      <th>1</th>\n",
       "      <td>JavaScript</td>\n",
       "    </tr>\n",
       "  </tbody>\n",
       "</table>\n",
       "</div>"
      ],
      "text/plain": [
       "         Data\n",
       "0        Java\n",
       "1  JavaScript"
      ]
     },
     "execution_count": 24,
     "metadata": {},
     "output_type": "execute_result"
    }
   ],
   "source": [
    "Print_data.dataframe_processing_t3()"
   ]
  },
  {
   "cell_type": "code",
   "execution_count": 25,
   "id": "sized-preview",
   "metadata": {},
   "outputs": [
    {
     "data": {
      "text/html": [
       "<div>\n",
       "<style scoped>\n",
       "    .dataframe tbody tr th:only-of-type {\n",
       "        vertical-align: middle;\n",
       "    }\n",
       "\n",
       "    .dataframe tbody tr th {\n",
       "        vertical-align: top;\n",
       "    }\n",
       "\n",
       "    .dataframe thead th {\n",
       "        text-align: right;\n",
       "    }\n",
       "</style>\n",
       "<table border=\"1\" class=\"dataframe\">\n",
       "  <thead>\n",
       "    <tr style=\"text-align: right;\">\n",
       "      <th></th>\n",
       "      <th>Data</th>\n",
       "    </tr>\n",
       "  </thead>\n",
       "  <tbody>\n",
       "    <tr>\n",
       "      <th>0</th>\n",
       "      <td>Java</td>\n",
       "    </tr>\n",
       "    <tr>\n",
       "      <th>1</th>\n",
       "      <td>JavaScript</td>\n",
       "    </tr>\n",
       "  </tbody>\n",
       "</table>\n",
       "</div>"
      ],
      "text/plain": [
       "         Data\n",
       "0        Java\n",
       "1  JavaScript"
      ]
     },
     "execution_count": 25,
     "metadata": {},
     "output_type": "execute_result"
    }
   ],
   "source": [
    "Print_data.dataframe_processing_t4()"
   ]
  },
  {
   "cell_type": "code",
   "execution_count": 26,
   "id": "pretty-branch",
   "metadata": {},
   "outputs": [
    {
     "data": {
      "text/html": [
       "<div>\n",
       "<style scoped>\n",
       "    .dataframe tbody tr th:only-of-type {\n",
       "        vertical-align: middle;\n",
       "    }\n",
       "\n",
       "    .dataframe tbody tr th {\n",
       "        vertical-align: top;\n",
       "    }\n",
       "\n",
       "    .dataframe thead th {\n",
       "        text-align: right;\n",
       "    }\n",
       "</style>\n",
       "<table border=\"1\" class=\"dataframe\">\n",
       "  <thead>\n",
       "    <tr style=\"text-align: right;\">\n",
       "      <th></th>\n",
       "      <th>Data</th>\n",
       "    </tr>\n",
       "  </thead>\n",
       "  <tbody>\n",
       "    <tr>\n",
       "      <th>0</th>\n",
       "      <td>Java</td>\n",
       "    </tr>\n",
       "    <tr>\n",
       "      <th>1</th>\n",
       "      <td>JavaScript</td>\n",
       "    </tr>\n",
       "  </tbody>\n",
       "</table>\n",
       "</div>"
      ],
      "text/plain": [
       "         Data\n",
       "0        Java\n",
       "1  JavaScript"
      ]
     },
     "execution_count": 26,
     "metadata": {},
     "output_type": "execute_result"
    }
   ],
   "source": [
    "Print_data.dataframe_processing_t5()"
   ]
  },
  {
   "cell_type": "code",
   "execution_count": null,
   "id": "unique-begin",
   "metadata": {},
   "outputs": [],
   "source": []
  },
  {
   "cell_type": "code",
   "execution_count": null,
   "id": "wanted-reason",
   "metadata": {},
   "outputs": [],
   "source": []
  }
 ],
 "metadata": {
  "kernelspec": {
   "display_name": "Python 3 (ipykernel)",
   "language": "python",
   "name": "python3"
  },
  "language_info": {
   "codemirror_mode": {
    "name": "ipython",
    "version": 3
   },
   "file_extension": ".py",
   "mimetype": "text/x-python",
   "name": "python",
   "nbconvert_exporter": "python",
   "pygments_lexer": "ipython3",
   "version": "3.9.7"
  }
 },
 "nbformat": 4,
 "nbformat_minor": 5
}
