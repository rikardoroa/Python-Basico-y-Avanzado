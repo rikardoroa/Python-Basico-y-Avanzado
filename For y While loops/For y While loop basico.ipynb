{
 "cells": [
  {
   "cell_type": "code",
   "execution_count": null,
   "metadata": {},
   "outputs": [],
   "source": [
    "Lista = ['Ricardo', 'Paola', 'Ernelda', 'Dora']\n",
    "ListaX = ['Rosmira', 'Paula', 'Geronimo']\n",
    "\n",
    "\"inicio comprension basica for loop\"\n",
    "\n",
    "\n",
    "def for_loop_0():\n",
    "    for x in range(len(Lista)):\n",
    "        print(Lista[x])\n",
    "\n",
    "\n",
    "def for_loop_1():\n",
    "    for item in Lista:\n",
    "        print(item)\n",
    "\n",
    "\n",
    "def for_loop_2():\n",
    "    [print(item) for item in Lista]\n",
    "\n",
    "\n",
    "\"fin comprension basica for loop\"\n",
    "\n",
    "\n",
    "\n",
    "\"inicio comprension basica range y for loop\"\n",
    "\n",
    "\n",
    "def for_loop_range_0():\n",
    "    for x in range(len(Lista)):\n",
    "        if Lista[x] == \"Ricardo\":\n",
    "            print(\"la posicion donde esta el nombre es la posicion {posicion}\".format(posicion=x))\n",
    "\n",
    "\n",
    "def for_loop_range_1():\n",
    "    for x in range(len(Lista)):\n",
    "        if Lista[x].find(\"Ricardo\") != -1:\n",
    "            print(\"la posicion donde esta el nombre es la posicion {posicion}\".format(posicion=x))\n",
    "\n",
    "\n",
    "def for_loop_range_2():\n",
    "    for x in range(len(Lista)):\n",
    "        if Lista[x].find(\"Ricardo\") != -1:\n",
    "            Lista.extend(ListaX)\n",
    "            print(\"La nueva Lista es: {Lista}\".format(Lista=Lista))\n",
    "\n",
    "\n",
    "def for_loop_range_3():\n",
    "    for x in range(len(Lista)):\n",
    "        if Lista[x].find(\"Ricardo\") != -1:\n",
    "            zip(Lista, ListaX)\n",
    "            print(\"La nueva Lista es: {Lista}\".format(Lista=Lista))\n",
    "\n",
    "\n",
    "\"fin comprension basica range y for loop\"\n",
    "\n",
    "\n",
    "\"inicio comprension basica while\"\n",
    "\n",
    "\n",
    "def while_loop():\n",
    "    i = 0\n",
    "    tam = len(Lista)\n",
    "    while i < tam:\n",
    "        if Lista[i].find(\"Ricardo\") != -1:\n",
    "            Lista.extend(ListaX)\n",
    "            print(\"La nueva Lista es: {milista}\".format(milista=Lista))\n",
    "        i += 1\n",
    "    \n"
   ]
  },
  {
   "cell_type": "code",
   "execution_count": null,
   "metadata": {},
   "outputs": [],
   "source": [
    "for_loop_0()\n"
   ]
  },
  {
   "cell_type": "code",
   "execution_count": null,
   "metadata": {},
   "outputs": [],
   "source": [
    "for_loop_1()"
   ]
  },
  {
   "cell_type": "code",
   "execution_count": null,
   "metadata": {},
   "outputs": [],
   "source": [
    "for_loop_2()"
   ]
  },
  {
   "cell_type": "code",
   "execution_count": null,
   "metadata": {},
   "outputs": [],
   "source": [
    "for_loop_range_0()"
   ]
  },
  {
   "cell_type": "code",
   "execution_count": null,
   "metadata": {},
   "outputs": [],
   "source": [
    "for_loop_range_1()"
   ]
  },
  {
   "cell_type": "code",
   "execution_count": null,
   "metadata": {},
   "outputs": [],
   "source": [
    "for_loop_range_2()"
   ]
  },
  {
   "cell_type": "code",
   "execution_count": null,
   "metadata": {},
   "outputs": [],
   "source": [
    "for_loop_range_3()"
   ]
  },
  {
   "cell_type": "code",
   "execution_count": null,
   "metadata": {},
   "outputs": [],
   "source": [
    "while_loop()"
   ]
  },
  {
   "cell_type": "code",
   "execution_count": null,
   "metadata": {},
   "outputs": [],
   "source": []
  }
 ],
 "metadata": {
  "kernelspec": {
   "display_name": "Python 3",
   "language": "python",
   "name": "python3"
  },
  "language_info": {
   "codemirror_mode": {
    "name": "ipython",
    "version": 3
   },
   "file_extension": ".py",
   "mimetype": "text/x-python",
   "name": "python",
   "nbconvert_exporter": "python",
   "pygments_lexer": "ipython3",
   "version": "3.7.9"
  }
 },
 "nbformat": 4,
 "nbformat_minor": 4
}
