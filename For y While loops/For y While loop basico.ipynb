{
 "cells": [
  {
   "cell_type": "code",
   "execution_count": null,
   "metadata": {},
   "outputs": [],
   "source": [
    "\"\"\"@rikardoroa Python Basico\"\"\"\n",
    "\"\"\" Scripts by @rikardoroa\"\"\"\n",
    "\n",
    "from IPython.core.display import HTML\n",
    "\n",
    "Lista = ['Ricardo', 'Paola', 'Ernelda', 'Dora']\n",
    "ListaX = ['Rosmira', 'Paula', 'Geronimo']\n",
    "\n",
    "\"inicio comprension basica for loop\"\n",
    "\n",
    "\n",
    "def for_loop_0():\n",
    "    for x in range(len(Lista)):\n",
    "        print(Lista[x])\n",
    "\n",
    "\n",
    "def for_loop_1():\n",
    "    for item in Lista:\n",
    "        print(item)\n",
    "\n",
    "\n",
    "def for_loop_2():\n",
    "    [print(item) for item in Lista]\n",
    "\n",
    "\n",
    "\"fin comprension basica for loop\"\n",
    "\n",
    "\"inicio comprension basica range y for loop\"\n",
    "\n",
    "\n",
    "def for_loop_range_0():\n",
    "    for x in range(len(Lista)):\n",
    "        if Lista[x] == \"Ricardo\":\n",
    "            print(\"la posicion donde esta el nombre es la posicion {posicion}\".format(posicion=x))\n",
    "\n",
    "\n",
    "def for_loop_range_1():\n",
    "    for x in range(len(Lista)):\n",
    "        if Lista[x].find(\"Ricardo\") != -1:\n",
    "            print(\"la posicion donde esta el nombre es la posicion {posicion}\".format(posicion=x))\n",
    "\n",
    "\n",
    "def for_loop_range_2():\n",
    "    for x in range(len(Lista)):\n",
    "        if Lista[x].find(\"Ricardo\") != -1:\n",
    "            Lista.extend(ListaX)\n",
    "            print(\"La nueva Lista es: {Lista}\".format(Lista=Lista))\n",
    "\n",
    "\n",
    "def for_loop_range_3():\n",
    "    for x in range(len(Lista)):\n",
    "        if Lista[x].find(\"Ricardo\") != -1:\n",
    "            zip(Lista, ListaX)\n",
    "            print(\"La nueva Lista es: {Lista}\".format(Lista=Lista))\n",
    "\n",
    "\n",
    "\"fin comprension basica range y for loop\"\n",
    "\n",
    "\"inicio comprension basica while\"\n",
    "\n",
    "\n",
    "def while_loop_0():\n",
    "    i = 0\n",
    "    tam = len(Lista)\n",
    "    while i < tam:\n",
    "        if Lista[i].find(\"Ricardo\") != -1:\n",
    "            Lista.extend(ListaX)\n",
    "            print(\"La nueva Lista es: {milista}\".format(milista=Lista))\n",
    "        i += 1\n",
    "\n",
    "\n",
    "def while_loop_1():\n",
    "    x = 0\n",
    "    i = 0\n",
    "    tam_i = len(Lista)\n",
    "    tam_x = len(ListaX)\n",
    "    ultimo_indice = len(Lista)-1\n",
    "    while i < tam_i:\n",
    "        while x < tam_x:\n",
    "            Lista.insert(ultimo_indice, ListaX[x])\n",
    "            x += 1\n",
    "        i += 1\n",
    "    print(Lista)\n",
    "    \n",
    "    \n",
    "    \n",
    "\"fin comprension basica while\"\n"
   ]
  },
  {
   "cell_type": "code",
   "execution_count": 2,
   "metadata": {},
   "outputs": [
    {
     "ename": "NameError",
     "evalue": "name 'HTML' is not defined",
     "output_type": "error",
     "traceback": [
      "\u001b[1;31m---------------------------------------------------------------------------\u001b[0m",
      "\u001b[1;31mNameError\u001b[0m                                 Traceback (most recent call last)",
      "\u001b[1;32m<ipython-input-2-9cf729010980>\u001b[0m in \u001b[0;36m<module>\u001b[1;34m\u001b[0m\n\u001b[0;32m      1\u001b[0m \u001b[1;34m\"\"\" para ejecutar estos scrips, dirijase al sitio web\"\"\"\u001b[0m\u001b[1;33m\u001b[0m\u001b[1;33m\u001b[0m\u001b[0m\n\u001b[0;32m      2\u001b[0m \u001b[1;33m\u001b[0m\u001b[0m\n\u001b[1;32m----> 3\u001b[1;33m \u001b[0mHTML\u001b[0m\u001b[1;33m(\u001b[0m\u001b[1;34m'<a href=\"https://dataplatform.cloud.ibm.com/analytics/notebooks/v2/a9647028-d298-465b-a751-fecef6cd2092?projectid=b27953fc-44ce-49ea-baa9-724de14f745f&context=cpdaas\">https://dataplatform.cloud.ibm.com/analytics/notebooks/v2/a9647028-d298-465b-a751-fecef6cd2092?projectid=b27953fc-44ce-49ea-baa9-724de14f745f&context=cpdaas</a>'\u001b[0m\u001b[1;33m)\u001b[0m\u001b[1;33m\u001b[0m\u001b[1;33m\u001b[0m\u001b[0m\n\u001b[0m",
      "\u001b[1;31mNameError\u001b[0m: name 'HTML' is not defined"
     ]
    }
   ],
   "source": [
    "\"\"\" para ejecutar estos scrips, dirijase al sitio web\"\"\" \n",
    "\n",
    "HTML('<a href=\"https://dataplatform.cloud.ibm.com/analytics/notebooks/v2/a9647028-d298-465b-a751-fecef6cd2092?projectid=b27953fc-44ce-49ea-baa9-724de14f745f&context=cpdaas\">https://dataplatform.cloud.ibm.com/analytics/notebooks/v2/a9647028-d298-465b-a751-fecef6cd2092?projectid=b27953fc-44ce-49ea-baa9-724de14f745f&context=cpdaas</a>')\n"
   ]
  },
  {
   "cell_type": "code",
   "execution_count": null,
   "metadata": {},
   "outputs": [],
   "source": []
  },
  {
   "cell_type": "code",
   "execution_count": null,
   "metadata": {},
   "outputs": [],
   "source": []
  }
 ],
 "metadata": {
  "kernelspec": {
   "display_name": "Python 3",
   "language": "python",
   "name": "python3"
  },
  "language_info": {
   "codemirror_mode": {
    "name": "ipython",
    "version": 3
   },
   "file_extension": ".py",
   "mimetype": "text/x-python",
   "name": "python",
   "nbconvert_exporter": "python",
   "pygments_lexer": "ipython3",
   "version": "3.7.9"
  }
 },
 "nbformat": 4,
 "nbformat_minor": 4
}
