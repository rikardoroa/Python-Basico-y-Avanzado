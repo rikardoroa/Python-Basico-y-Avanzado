{
 "cells": [
  {
   "cell_type": "code",
   "execution_count": 8,
   "metadata": {},
   "outputs": [],
   "source": [
    "\"Scripts by @rikardoroa\"\n",
    "\"Insercion de listas con For , While y chain\"\n",
    "\"Python Basico y avanzado\"\n",
    "\n",
    "from IPython.display import display, HTML\n",
    "from itertools import chain\n",
    "\n",
    "\n",
    "Nombres = [\"Ricardo\", \"Rafael\", \"Paula\", \"Marcela\"]\n",
    "Apellidos = [\"Roa\", \"Merlano\", \"Roa\", \"Merlano\"]\n",
    "Nombres_apellidos = []\n",
    "Nombres_apellidos_2 = []\n",
    "Nombres_apellidos_3 = []\n",
    "Nombres_apellidos_4 = [None] * (len(Nombres) + len(Apellidos))\n",
    "\n",
    "\n",
    "def insercion_chain():\n",
    "    for item in chain(Nombres, Apellidos):\n",
    "        Nombres_apellidos.append(item)\n",
    "    print(Nombres_apellidos)\n",
    "\n",
    "\n",
    "def insercion_append():\n",
    "    for nombre in Nombres:\n",
    "        n_item = nombre\n",
    "        Nombres_apellidos_2.append(n_item)\n",
    "    for apellido in Apellidos:\n",
    "        a_item = apellido\n",
    "        Nombres_apellidos_2.append(a_item)\n",
    "    print(Nombres_apellidos)\n",
    "\n",
    "\n",
    "def insercion_insert():\n",
    "    for item in Apellidos:\n",
    "        Nombres_apellidos_3.insert(Apellidos.index(item), item)\n",
    "    for item in Nombres:\n",
    "        Nombres_apellidos_3.insert(Nombres.index(item), item)\n",
    "    print(Nombres_apellidos_3)\n",
    "\n",
    "\n",
    "def insercion_insert_2():\n",
    "    nombres_apellidos_6 = []\n",
    "    Datos = []\n",
    "    for index, nombre in enumerate(Nombres):\n",
    "        for index_2, item in enumerate(Nombres_apellidos_4):\n",
    "            if Nombres_apellidos_4[index_2] is None or item is None:\n",
    "                data = nombre\n",
    "        Nombres_apellidos_4.insert(index, data)\n",
    "    for index, apellido in enumerate(Apellidos):\n",
    "        for index_2, item in enumerate(Nombres_apellidos_4):\n",
    "            if Nombres_apellidos_4[index_2] is None:\n",
    "                data = apellido\n",
    "        Nombres_apellidos_4.insert(index, data)\n",
    "    contador = 0\n",
    "    while contador < len(Nombres_apellidos_4):\n",
    "        for index, n_item in enumerate(Nombres_apellidos_4):\n",
    "            if n_item is None:\n",
    "                Nombres_apellidos_4.pop(index)\n",
    "        contador += 1\n",
    "    for item in chain(Nombres, Apellidos):\n",
    "        Datos.append(item)\n",
    "    for index, item in enumerate(Nombres_apellidos_4):\n",
    "        for index, nombres in enumerate(Datos):\n",
    "            if item.find(Datos[(index + 1)%len(Datos)]):\n",
    "                Nombres_apellidos_4[index] = nombres\n",
    "    print(Nombres_apellidos_4)\n",
    "\n",
    "\n",
    "\n",
    "\n",
    "\n"
   ]
  },
  {
   "cell_type": "code",
   "execution_count": 3,
   "metadata": {},
   "outputs": [
    {
     "name": "stdout",
     "output_type": "stream",
     "text": [
      "['Ricardo', 'Rafael', 'Paula', 'Marcela', 'Roa', 'Merlano', 'Roa', 'Merlano']\n"
     ]
    }
   ],
   "source": [
    "insercion_chain()\n"
   ]
  },
  {
   "cell_type": "code",
   "execution_count": 4,
   "metadata": {},
   "outputs": [
    {
     "name": "stdout",
     "output_type": "stream",
     "text": [
      "['Ricardo', 'Rafael', 'Paula', 'Marcela', 'Roa', 'Merlano', 'Roa', 'Merlano']\n"
     ]
    }
   ],
   "source": [
    "insercion_append()\n"
   ]
  },
  {
   "cell_type": "code",
   "execution_count": 5,
   "metadata": {},
   "outputs": [
    {
     "name": "stdout",
     "output_type": "stream",
     "text": [
      "['Ricardo', 'Rafael', 'Paula', 'Marcela', 'Roa', 'Merlano', 'Roa', 'Merlano']\n"
     ]
    }
   ],
   "source": [
    "insercion_insert()\n"
   ]
  },
  {
   "cell_type": "code",
   "execution_count": 6,
   "metadata": {},
   "outputs": [
    {
     "name": "stdout",
     "output_type": "stream",
     "text": [
      "['Ricardo', 'Rafael', 'Paula', 'Marcela', 'Roa', 'Merlano', 'Roa', 'Merlano']\n"
     ]
    }
   ],
   "source": [
    "insercion_insert_2()"
   ]
  },
  {
   "cell_type": "code",
   "execution_count": 9,
   "metadata": {},
   "outputs": [
    {
     "data": {
      "text/html": [
       "<a href=\"https://dataplatform.cloud.ibm.com/analytics/notebooks/v2/6067f10a-7e6b-4fd8-94ef-7efa00de6f81?projectid=b27953fc-44ce-49ea-baa9-724de14f745f&context=cpdaas\"> For y While avanzados parte II </a>"
      ],
      "text/plain": [
       "<IPython.core.display.HTML object>"
      ]
     },
     "metadata": {},
     "output_type": "display_data"
    }
   ],
   "source": [
    "\"\"\" para ejecutar estos scrips, dirijase al sitio web\"\"\" \n",
    "\n",
    "display(HTML('<a href=\"https://dataplatform.cloud.ibm.com/analytics/notebooks/v2/6067f10a-7e6b-4fd8-94ef-7efa00de6f81?projectid=b27953fc-44ce-49ea-baa9-724de14f745f&context=cpdaas\"> For y While avanzados parte II </a>'))\n"
   ]
  },
  {
   "cell_type": "code",
   "execution_count": null,
   "metadata": {},
   "outputs": [],
   "source": []
  }
 ],
 "metadata": {
  "kernelspec": {
   "display_name": "Python 3",
   "language": "python",
   "name": "python3"
  },
  "language_info": {
   "codemirror_mode": {
    "name": "ipython",
    "version": 3
   },
   "file_extension": ".py",
   "mimetype": "text/x-python",
   "name": "python",
   "nbconvert_exporter": "python",
   "pygments_lexer": "ipython3",
   "version": "3.7.9"
  }
 },
 "nbformat": 4,
 "nbformat_minor": 4
}
