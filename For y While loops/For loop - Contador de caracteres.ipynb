{
 "cells": [
  {
   "cell_type": "code",
   "execution_count": 12,
   "metadata": {},
   "outputs": [],
   "source": [
    "\"\"\"@rikardoroa Python Basico\"\"\"\n",
    "\"\"\" Scripts by @rikardoroa\"\"\"\n",
    "\n",
    "from IPython.display import display, HTML\n",
    "\n",
    "def contador_de_items():\n",
    "    Lista = []\n",
    "    cadena_caracteres = input()\n",
    "    contador_letras = 0\n",
    "\n",
    "    for letra_item in cadena_caracteres:\n",
    "        Lista.append(letra_item)\n",
    "\n",
    "    for item, i in enumerate(Lista):\n",
    "        if (Lista[item] == ' ') | (Lista[item] == ''):\n",
    "            Lista.remove(i)\n",
    "\n",
    "    for items in Lista:\n",
    "        contador_letras += 1\n",
    "    print(\"La Lista es:\", \"\", Lista, \"y la cantidad de items que contiene son:\", contador_letras)\n",
    "       \n",
    "   \n",
    "        \n",
    "    \n",
    "\n",
    "        \n",
    "\n",
    "\n",
    "      "
   ]
  },
  {
   "cell_type": "code",
   "execution_count": 17,
   "metadata": {},
   "outputs": [
    {
     "data": {
      "text/html": [
       "<a href=\"https://dataplatform.cloud.ibm.com/analytics/notebooks/v2/e023b3f4-de4a-4e60-9e59-a74703110716?projectid=b27953fc-44ce-49ea-baa9-724de14f745f&context=cpdaas\">Contador de Caracteres con For Loop</a>"
      ],
      "text/plain": [
       "<IPython.core.display.HTML object>"
      ]
     },
     "metadata": {},
     "output_type": "display_data"
    }
   ],
   "source": [
    "\"\"\" para ejecutar estos scrips, dirijase al sitio web\"\"\" \n",
    "\n",
    "display(HTML('<a href=\"https://dataplatform.cloud.ibm.com/analytics/notebooks/v2/e023b3f4-de4a-4e60-9e59-a74703110716?projectid=b27953fc-44ce-49ea-baa9-724de14f745f&context=cpdaas\">Contador de Caracteres con For Loop</a>'))"
   ]
  },
  {
   "cell_type": "code",
   "execution_count": null,
   "metadata": {},
   "outputs": [],
   "source": []
  }
 ],
 "metadata": {
  "kernelspec": {
   "display_name": "Python 3",
   "language": "python",
   "name": "python3"
  },
  "language_info": {
   "codemirror_mode": {
    "name": "ipython",
    "version": 3
   },
   "file_extension": ".py",
   "mimetype": "text/x-python",
   "name": "python",
   "nbconvert_exporter": "python",
   "pygments_lexer": "ipython3",
   "version": "3.7.9"
  }
 },
 "nbformat": 4,
 "nbformat_minor": 4
}
