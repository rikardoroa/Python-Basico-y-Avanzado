{
 "cells": [
  {
   "cell_type": "code",
   "execution_count": 2,
   "metadata": {},
   "outputs": [],
   "source": [
    "\"\"\"@rikardoroa Python Basico\"\"\"\n",
    "\"\"\" Scripts by @rikardoroa\"\"\"\n",
    "\n",
    "from IPython.display import display, HTML\n",
    "\n",
    "Lista = [1, 2, 3, 4, 5, 6, 7, 8, 9, 10]\n",
    "Lista_cubox = []\n",
    "Lista_cuboy = []\n",
    "Lista_cuboz = []\n",
    "Lista_cubor = []\n",
    "Lista_cubot = []\n",
    "\n",
    "\n",
    "\"inicio comprension basica for loop\"\n",
    "\n",
    "\n",
    "def cubo_1():\n",
    "    for item in Lista:\n",
    "        cubo_item = item * item * item\n",
    "        Lista_cubox.append(cubo_item)\n",
    "    print(Lista_cubox)\n",
    "\n",
    "\n",
    "def cubo_2():\n",
    "    for item in Lista:\n",
    "        cubo_item = item ** 3\n",
    "        Lista_cuboy.append(cubo_item)\n",
    "    print(Lista_cuboy)\n",
    "\n",
    "\n",
    "def cubo_lista_for_exp_1():\n",
    "    [Lista_cuboz.append(x*x*x)for x in Lista]\n",
    "    print(Lista_cuboz)\n",
    "\n",
    "\n",
    "def cubo_lista_for_exp_2():\n",
    "    [Lista_cubor.append(x ** 3) for x in Lista]\n",
    "    print(Lista_cubor)\n",
    "\n",
    "\"utilzacion de map y lambda en un for loop\"\n",
    "\n",
    "\n",
    "def cubo_lista_for_exp_3():\n",
    "    item = list(map(lambda x: x ** 3, Lista))\n",
    "    for i in item:\n",
    "        Lista_cubot.append(i)\n",
    "    print(Lista_cubot)\n"
   ]
  },
  {
   "cell_type": "code",
   "execution_count": 4,
   "metadata": {},
   "outputs": [
    {
     "data": {
      "text/html": [
       "<a href=\"https://dataplatform.cloud.ibm.com/analytics/notebooks/v2/d7def1c6-80f5-4f24-b7bb-fc96d36a7839?projectid=b27953fc-44ce-49ea-baa9-724de14f745f&context=cpdaas\"> For  basico segunda parte </a>"
      ],
      "text/plain": [
       "<IPython.core.display.HTML object>"
      ]
     },
     "metadata": {},
     "output_type": "display_data"
    }
   ],
   "source": [
    "\"\"\" para ejecutar estos scrips, dirijase al sitio web\"\"\" \n",
    "\n",
    "display(HTML('<a href=\"https://dataplatform.cloud.ibm.com/analytics/notebooks/v2/d7def1c6-80f5-4f24-b7bb-fc96d36a7839?projectid=b27953fc-44ce-49ea-baa9-724de14f745f&context=cpdaas\"> For  basico segunda parte </a>'))\n"
   ]
  },
  {
   "cell_type": "code",
   "execution_count": null,
   "metadata": {},
   "outputs": [],
   "source": []
  }
 ],
 "metadata": {
  "kernelspec": {
   "display_name": "Python 3",
   "language": "python",
   "name": "python3"
  },
  "language_info": {
   "codemirror_mode": {
    "name": "ipython",
    "version": 3
   },
   "file_extension": ".py",
   "mimetype": "text/x-python",
   "name": "python",
   "nbconvert_exporter": "python",
   "pygments_lexer": "ipython3",
   "version": "3.7.9"
  }
 },
 "nbformat": 4,
 "nbformat_minor": 4
}
