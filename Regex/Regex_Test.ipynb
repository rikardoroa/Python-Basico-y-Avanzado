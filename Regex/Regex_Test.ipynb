{
 "cells": [
  {
   "cell_type": "code",
   "execution_count": 36,
   "id": "universal-safety",
   "metadata": {},
   "outputs": [],
   "source": [
    "import re\n",
    "\n",
    "class LetterFilter:\n",
    "    \n",
    "    def __init__(self, s= str):\n",
    "        self.s = s\n",
    "\n",
    "    def filter_vowels(self):\n",
    "        palabra = self.s\n",
    "        palabra = input(\"digite la palabra:\")\n",
    "        remover = re.sub( r\"[aeiou]\",\"\",palabra)\n",
    "        return remover\n",
    "\n",
    "\n",
    "    def filter_consonants(self):\n",
    "        palabra = self.s\n",
    "        palabra = input(\"digite la palabra:\")\n",
    "        remover_consonante = re.sub(\"(?:(?![eiou])[b-z])\",\"\",palabra)\n",
    "        return remover_consonante\n",
    "   "
   ]
  },
  {
   "cell_type": "code",
   "execution_count": 38,
   "id": "minute-indianapolis",
   "metadata": {},
   "outputs": [
    {
     "name": "stdin",
     "output_type": "stream",
     "text": [
      "digite la palabra: hackerank\n"
     ]
    },
    {
     "data": {
      "text/plain": [
       "'hckrnk'"
      ]
     },
     "execution_count": 38,
     "metadata": {},
     "output_type": "execute_result"
    }
   ],
   "source": [
    "a = LetterFilter()\n",
    "a.filter_vowels()"
   ]
  },
  {
   "cell_type": "code",
   "execution_count": 39,
   "id": "neutral-badge",
   "metadata": {},
   "outputs": [
    {
     "name": "stdin",
     "output_type": "stream",
     "text": [
      "digite la palabra: hackerank\n"
     ]
    },
    {
     "data": {
      "text/plain": [
       "'aea'"
      ]
     },
     "execution_count": 39,
     "metadata": {},
     "output_type": "execute_result"
    }
   ],
   "source": [
    "a.filter_consonants()"
   ]
  },
  {
   "cell_type": "code",
   "execution_count": null,
   "id": "selected-river",
   "metadata": {},
   "outputs": [],
   "source": []
  }
 ],
 "metadata": {
  "kernelspec": {
   "display_name": "Python 3",
   "language": "python",
   "name": "python3"
  },
  "language_info": {
   "codemirror_mode": {
    "name": "ipython",
    "version": 3
   },
   "file_extension": ".py",
   "mimetype": "text/x-python",
   "name": "python",
   "nbconvert_exporter": "python",
   "pygments_lexer": "ipython3",
   "version": "3.8.7"
  }
 },
 "nbformat": 4,
 "nbformat_minor": 5
}
