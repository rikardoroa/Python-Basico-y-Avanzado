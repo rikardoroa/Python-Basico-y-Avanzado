{
 "cells": [
  {
   "cell_type": "code",
   "execution_count": 1,
   "id": "9e88f5f6-4794-47fb-bc05-16b5cbf49da5",
   "metadata": {},
   "outputs": [],
   "source": [
    "def isAlmostPalindrome(word):\n",
    "    lista = list(word)\n",
    "    new_list = lista[::-1]\n",
    "    word_a = \"\".join(str(x) for x in new_list)\n",
    "    word_b = \"\".join(str(x) for x in lista)\n",
    "    word_c = word_a[::-1]\n",
    "    if word_c == word_b:\n",
    "        Bool = True\n",
    "    else:\n",
    "        Bool = False\n",
    "    return Bool"
   ]
  },
  {
   "cell_type": "code",
   "execution_count": 2,
   "id": "c83beb3e-ea4c-4722-8f4a-d8f770cebdf8",
   "metadata": {},
   "outputs": [
    {
     "data": {
      "text/plain": [
       "True"
      ]
     },
     "execution_count": 2,
     "metadata": {},
     "output_type": "execute_result"
    }
   ],
   "source": [
    "isAlmostPalindrome(\"Noel - sees Leon\")"
   ]
  },
  {
   "cell_type": "code",
   "execution_count": null,
   "id": "d8432b85-7645-41cd-8b29-0089c097f215",
   "metadata": {},
   "outputs": [],
   "source": []
  }
 ],
 "metadata": {
  "kernelspec": {
   "display_name": "Python 3 (ipykernel)",
   "language": "python",
   "name": "python3"
  },
  "language_info": {
   "codemirror_mode": {
    "name": "ipython",
    "version": 3
   },
   "file_extension": ".py",
   "mimetype": "text/x-python",
   "name": "python",
   "nbconvert_exporter": "python",
   "pygments_lexer": "ipython3",
   "version": "3.9.7"
  }
 },
 "nbformat": 4,
 "nbformat_minor": 5
}
