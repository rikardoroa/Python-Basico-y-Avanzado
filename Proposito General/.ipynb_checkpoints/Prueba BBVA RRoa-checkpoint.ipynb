{
 "cells": [
  {
   "cell_type": "code",
   "execution_count": 1,
   "id": "bound-onion",
   "metadata": {},
   "outputs": [],
   "source": [
    "import re\n",
    "import itertools\n",
    "from itertools import permutations\n",
    "from itertools import product\n",
    "from functools import reduce\n",
    "import heapq\n",
    "\n",
    "class english_steck():\n",
    "    \n",
    "    #declaro las variables que voy a usar en la clase\n",
    "    def __init__(self, Cards=list, Numbers=list,Game_a=tuple,Game_b=tuple,Game_c=tuple,Game_d=tuple, min_hand=dict):\n",
    "        self.Cards = [\"C\",\"T\",\"P\",\"D\"]\n",
    "        self.Numbers = [\"1\",\"2\"]\n",
    "        self.Game_a = Game_a\n",
    "        self.Game_b = Game_b\n",
    "        self.Game_c = Game_c\n",
    "        self.Game_d = Game_d\n",
    "        self.min_hand = min_hand\n",
    "    \n",
    "    def permutations(self): #funcion que realiza la permutacion\n",
    "        Combinations = []\n",
    "        Cards = self.Cards\n",
    "        Numbers = self.Numbers\n",
    "        \n",
    "        \n",
    "        for Number,Card in itertools.product(Numbers,Cards):#ejecuto todas las combinaciones\n",
    "            Steck_Item = Number+Card\n",
    "            Combinations.append(Steck_Item) \n",
    "            \n",
    " \n",
    "        final_steck=[]   \n",
    "        Perm = permutations(Combinations) #guardo las combinaciones en una variable para luego buscar los patrones de la mano (1C,1T,1P,2D)\n",
    "        for item in Perm:\n",
    "            k_items = item[:4]\n",
    "            for steck in k_items:\n",
    "                if steck ==\"1C\" or steck ==\"1T\" or steck ==\"1P\" or steck ==\"2D\": #busco el patron de esta combinacion\n",
    "                    final_steck.append(steck)\n",
    "        final_steck = list(dict.fromkeys(final_steck))#remuevo duplicados\n",
    "        \n",
    "    \n",
    "        self.Game_a  = tuple(final_steck)#primera mano obtenida del mazo inicial\n",
    "        \n",
    "        for index,item in enumerate(final_steck): #aqui realizo la busqueda de los indices segun los elementos a ordenar\n",
    "            \n",
    "            if index%2==0 and index==2:#busco el indice segun la posicion en la lista\n",
    "                \n",
    "                final_steck[index] =  re.sub(\"1\", \"2\", item) #remplazo en valor del numero correspondiente al mazo en el ciclo\n",
    "                aux =  final_steck[index]\n",
    "                final_steck.remove( final_steck[index])\n",
    "                final_steck.insert( index, aux)\n",
    "                \n",
    "            if index%3==0 and index==3:\n",
    "                \n",
    "                final_steck[index] =  re.sub(\"2\", \"1\", item)\n",
    "                aux =  final_steck[index]\n",
    "                self.Game_b = tuple(final_steck)#segunda mano obtenida\n",
    "                \n",
    "                \n",
    "            aux_list=[]\n",
    "            if index%2==1 and index==1:\n",
    "                aux_list = final_steck.copy()\n",
    "                aux_list[index] =  re.sub(\"1\", \"2\", item)\n",
    "                aux_list[-1] =  re.sub(\"2\", \"1\", final_steck[-1])\n",
    "                self.Game_c = tuple(aux_list)#tercera mano obtenida\n",
    "                \n",
    "   \n",
    "            aux_list_x=[]\n",
    "            if  index==0:\n",
    "                aux_list_x = final_steck.copy()\n",
    "                aux_list_x[index] =  re.sub(\"1\", \"2\", item)\n",
    "                aux_list_x[-1] =  re.sub(\"2\", \"1\", final_steck[-1])\n",
    "                self.Game_d = tuple(aux_list_x)#cuarta mano obtenida\n",
    "                \n",
    "                \n",
    "        return (self.Game_a,self.Game_b,self.Game_c,self.Game_d)#retorno las tuplas de las manos obtenidas, segun el ejercicio\n",
    "    \n",
    "    \n",
    "    def min_game(self):\n",
    "        #declaro la instancia de cada variable(de la mano correspondiente) en la funcion min_game\n",
    "        Game_a = self.Game_a\n",
    "        Game_b = self.Game_b\n",
    "        Game_c = self.Game_c\n",
    "        Game_d = self.Game_d\n",
    "        \n",
    "        \n",
    "        hand_a =[]\n",
    "        hand_b =[]\n",
    "        hand_c =[]\n",
    "        hand_d =[]\n",
    "        \n",
    "        for item_a,item_b,item_c,item_d in zip(Game_a,Game_b,Game_c,Game_d):\n",
    "            find_data_a = re.findall(r'[0-9]',item_a)\n",
    "            find_data_b = re.findall(r'[0-9]',item_b)\n",
    "            find_data_c = re.findall(r'[0-9]',item_c)\n",
    "            find_data_d = re.findall(r'[0-9]',item_d)\n",
    "            hand_a.append(find_data_a)\n",
    "            hand_b.append(find_data_b)\n",
    "            hand_c.append(find_data_c)\n",
    "            hand_d.append(find_data_d)\n",
    "            Steck_a = reduce(lambda x,y: x+y, hand_a)   \n",
    "            Steck_b = reduce(lambda x,y: x+y, hand_b)  \n",
    "            Steck_c = reduce(lambda x,y: x+y, hand_c)  \n",
    "            Steck_d = reduce(lambda x,y: x+y, hand_d)  \n",
    "        Steck_a = list(map(int, Steck_a)) #obtengo los valores enteros de la mano de cartas  \n",
    "        Steck_b = list(map(int, Steck_b))\n",
    "        Steck_c = list(map(int, Steck_c))\n",
    "\n",
    "        Steck_d = list(map(int, Steck_d))#obtengo los valores enteros de la mano de cartas \n",
    "        \n",
    "        #declaro los diccionarios\n",
    "        hands_a= {}\n",
    "        hands_b= {}\n",
    "        hands_c= {}\n",
    "        hands_d= {}\n",
    "        keys = [\"Hand\"]\n",
    "\n",
    "        #agrego datos a los diccionarios\n",
    "        groups_hands = []\n",
    "        for i in range(len(keys)):\n",
    "            hands_a[keys[i]] = Steck_a\n",
    "            groups_hands.append(hands_a)\n",
    "            hands_b[keys[i]] = Steck_b\n",
    "            groups_hands.append(hands_b)\n",
    "            hands_c[keys[i]] = Steck_c\n",
    "            groups_hands.append(hands_c)\n",
    "            hands_d[keys[i]] = Steck_d\n",
    "            groups_hands.append(hands_d)\n",
    "            \n",
    "        min_hand = heapq.nsmallest(1, groups_hands, key=lambda s: s['Hand'])#retorno la minima mano del juego completo de manos de las cartas(enteros)\n",
    "        self.min_hand = min_hand\n",
    "        \n",
    "        return self.min_hand  #retorno el valor minimo de la mano\n",
    "    \n",
    "    \n",
    "    def min_hand_output_list(self):\n",
    "        min_hand = self.min_hand\n",
    "       \n",
    "        #aqui realizo la conversion finalmente a una tupla con la minima mano de cartas del juego\n",
    "        for item in min_hand:\n",
    "            min_steck_hand = dict(item)\n",
    "            \n",
    "        for keys, items in min_steck_hand.items():\n",
    "            min_game = tuple(items)\n",
    "            \n",
    "        return min_game #retorno la tupla"
   ]
  },
  {
   "cell_type": "code",
   "execution_count": 2,
   "id": "accredited-action",
   "metadata": {},
   "outputs": [
    {
     "data": {
      "text/plain": [
       "(('1C', '1T', '1P', '2D'),\n",
       " ('1C', '1T', '2P', '1D'),\n",
       " ('1C', '2T', '1P', '1D'),\n",
       " ('2C', '1T', '1P', '1D'))"
      ]
     },
     "execution_count": 2,
     "metadata": {},
     "output_type": "execute_result"
    }
   ],
   "source": [
    "Perm = english_steck()\n",
    "Perm.permutations()"
   ]
  },
  {
   "cell_type": "code",
   "execution_count": 3,
   "id": "searching-twins",
   "metadata": {},
   "outputs": [
    {
     "data": {
      "text/plain": [
       "[{'Hand': [1, 1, 1, 2]}]"
      ]
     },
     "execution_count": 3,
     "metadata": {},
     "output_type": "execute_result"
    }
   ],
   "source": [
    "Perm.min_game()"
   ]
  },
  {
   "cell_type": "code",
   "execution_count": 4,
   "id": "intended-catch",
   "metadata": {},
   "outputs": [
    {
     "data": {
      "text/plain": [
       "(1, 1, 1, 2)"
      ]
     },
     "execution_count": 4,
     "metadata": {},
     "output_type": "execute_result"
    }
   ],
   "source": [
    "Perm.min_hand_output_list()"
   ]
  },
  {
   "cell_type": "code",
   "execution_count": null,
   "id": "nearby-accent",
   "metadata": {},
   "outputs": [],
   "source": []
  }
 ],
 "metadata": {
  "kernelspec": {
   "display_name": "Python 3",
   "language": "python",
   "name": "python3"
  },
  "language_info": {
   "codemirror_mode": {
    "name": "ipython",
    "version": 3
   },
   "file_extension": ".py",
   "mimetype": "text/x-python",
   "name": "python",
   "nbconvert_exporter": "python",
   "pygments_lexer": "ipython3",
   "version": "3.8.7"
  }
 },
 "nbformat": 4,
 "nbformat_minor": 5
}
