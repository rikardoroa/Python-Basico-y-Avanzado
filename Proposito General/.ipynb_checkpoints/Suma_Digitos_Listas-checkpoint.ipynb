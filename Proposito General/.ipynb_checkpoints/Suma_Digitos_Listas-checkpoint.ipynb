{
 "cells": [
  {
   "cell_type": "code",
   "execution_count": 1,
   "id": "7896da5d-b9bf-4667-a13f-5ca27c02a006",
   "metadata": {},
   "outputs": [],
   "source": [
    "#Script by rikardoroa\n",
    "#sumatoria de numeros cuyos digitos sean la sumatoria de un numero de la lista: ej [2,11] =>1+1=2\n",
    "#Just Pythonit!\n",
    "def data_sum(Mylist):\n",
    "    aux=[]\n",
    "    aux_n=[]\n",
    "    result=[]\n",
    "    sum_data=-1\n",
    "    for data in Mylist:\n",
    "        aux_cont=0\n",
    "        for num in str(data):\n",
    "            aux_cont += int(num)\n",
    "        aux.append(aux_cont)\n",
    "        aux_ = aux.copy()\n",
    "    for index, item_aux_ in enumerate(aux_):\n",
    "        for index_aux, item_aux in enumerate(aux):\n",
    "            if item_aux_ == item_aux and aux[index]==aux[(index+1)%len(aux)]:\n",
    "                pos=index_aux\n",
    "                result.append(pos)\n",
    "                aux_set = set(result)\n",
    "                result = list(aux_set)\n",
    "            if item_aux_ == item_aux and aux[index]!=aux[(index+1)%len(aux)]:\n",
    "                if aux_.count(item_aux)>1:\n",
    "                    pos=index_aux\n",
    "                    result.append(pos)\n",
    "                    aux_set = set(result)\n",
    "                    result = list(aux_set)         \n",
    "    for ind, item in enumerate(Mylist):\n",
    "        for idx in result:\n",
    "            if ind==idx:\n",
    "                aux_n.insert(idx,item)\n",
    "                for item in aux_n:\n",
    "                    sum_data = sum(aux_n)\n",
    "            else:\n",
    "                sum_data = sum_data   \n",
    "    return sum_data  "
   ]
  },
  {
   "cell_type": "code",
   "execution_count": 3,
   "id": "045992e0-f211-4187-ba99-51cbd3ffe97b",
   "metadata": {},
   "outputs": [
    {
     "data": {
      "text/plain": [
       "43"
      ]
     },
     "execution_count": 3,
     "metadata": {},
     "output_type": "execute_result"
    }
   ],
   "source": [
    "data_sum(Mylist=[8,2,3,35])#extremo"
   ]
  },
  {
   "cell_type": "code",
   "execution_count": 4,
   "id": "aa8f0c47-f82d-4370-853f-4dbc50002ea9",
   "metadata": {},
   "outputs": [
    {
     "data": {
      "text/plain": [
       "23"
      ]
     },
     "execution_count": 4,
     "metadata": {},
     "output_type": "execute_result"
    }
   ],
   "source": [
    "data_sum(Mylist=[16,2,3,7])#extremo"
   ]
  },
  {
   "cell_type": "code",
   "execution_count": 5,
   "id": "50f5af56-6a80-4ea5-879e-ca22ddf25f5b",
   "metadata": {},
   "outputs": [
    {
     "data": {
      "text/plain": [
       "79"
      ]
     },
     "execution_count": 5,
     "metadata": {},
     "output_type": "execute_result"
    }
   ],
   "source": [
    "data_sum(Mylist=[8,71,5,2])#primeras dos posiciones"
   ]
  },
  {
   "cell_type": "code",
   "execution_count": 6,
   "id": "e7667437-9b3c-4e6c-ba61-25a1f1040303",
   "metadata": {},
   "outputs": [
    {
     "data": {
      "text/plain": [
       "39"
      ]
     },
     "execution_count": 6,
     "metadata": {},
     "output_type": "execute_result"
    }
   ],
   "source": [
    "data_sum(Mylist=[1,5,33,6])#ultimas dos posiciones"
   ]
  },
  {
   "cell_type": "code",
   "execution_count": 7,
   "id": "70b3ff25-8637-455b-b57f-e736a5a37cbc",
   "metadata": {},
   "outputs": [
    {
     "data": {
      "text/plain": [
       "13"
      ]
     },
     "execution_count": 7,
     "metadata": {},
     "output_type": "execute_result"
    }
   ],
   "source": [
    "data_sum(Mylist=[11,5,2,6])#intercalado"
   ]
  },
  {
   "cell_type": "code",
   "execution_count": 8,
   "id": "93e71623-79b5-4516-8cc2-51bd70c51128",
   "metadata": {},
   "outputs": [
    {
     "data": {
      "text/plain": [
       "41"
      ]
     },
     "execution_count": 8,
     "metadata": {},
     "output_type": "execute_result"
    }
   ],
   "source": [
    "data_sum(Mylist=[11,34,5,7])#intercalado"
   ]
  },
  {
   "cell_type": "code",
   "execution_count": 9,
   "id": "d597b543-b688-4da3-b669-26b34086a63d",
   "metadata": {},
   "outputs": [
    {
     "data": {
      "text/plain": [
       "24"
      ]
     },
     "execution_count": 9,
     "metadata": {},
     "output_type": "execute_result"
    }
   ],
   "source": [
    "data_sum(Mylist=[2,3,21,5])#mitad"
   ]
  },
  {
   "cell_type": "code",
   "execution_count": 13,
   "id": "52bb1b3a-2240-4d42-9e56-a45b8bb2a71b",
   "metadata": {},
   "outputs": [
    {
     "data": {
      "text/plain": [
       "-1"
      ]
     },
     "execution_count": 13,
     "metadata": {},
     "output_type": "execute_result"
    }
   ],
   "source": [
    "data_sum(Mylist=[1,2,3,4])#distintos"
   ]
  },
  {
   "cell_type": "code",
   "execution_count": 14,
   "id": "d1ce2a3b-8311-4033-b1c9-3f4b244303bc",
   "metadata": {},
   "outputs": [
    {
     "data": {
      "text/plain": [
       "69"
      ]
     },
     "execution_count": 14,
     "metadata": {},
     "output_type": "execute_result"
    }
   ],
   "source": [
    "data_sum(Mylist=[5,32,25,7])#mitad"
   ]
  },
  {
   "cell_type": "code",
   "execution_count": null,
   "id": "c3ad659d-badc-4eaa-adae-15972f052f30",
   "metadata": {},
   "outputs": [],
   "source": []
  }
 ],
 "metadata": {
  "kernelspec": {
   "display_name": "Python 3 (ipykernel)",
   "language": "python",
   "name": "python3"
  },
  "language_info": {
   "codemirror_mode": {
    "name": "ipython",
    "version": 3
   },
   "file_extension": ".py",
   "mimetype": "text/x-python",
   "name": "python",
   "nbconvert_exporter": "python",
   "pygments_lexer": "ipython3",
   "version": "3.9.7"
  }
 },
 "nbformat": 4,
 "nbformat_minor": 5
}
