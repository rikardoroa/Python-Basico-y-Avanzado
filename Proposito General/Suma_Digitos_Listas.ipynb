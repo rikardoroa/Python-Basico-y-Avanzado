{
 "cells": [
  {
   "cell_type": "code",
   "execution_count": 5,
   "id": "7896da5d-b9bf-4667-a13f-5ca27c02a006",
   "metadata": {},
   "outputs": [],
   "source": [
    "#Script by rikardoroa\n",
    "#sumatoria de numeros cuyos digitos sean la sumatoria de los numeros que estan en la lista\n",
    "#Just Pythonit!\n",
    "def data_sum(Mylist):\n",
    "    aux=[]\n",
    "    aux_n=[]\n",
    "    result=[]\n",
    "    sum_data=-1\n",
    "    for data in Mylist:\n",
    "        aux_cont=0\n",
    "        for num in str(data):\n",
    "            aux_cont += int(num)\n",
    "        aux.append(aux_cont)\n",
    "        aux_ = aux.copy()\n",
    "    for index, item_aux_ in enumerate(aux_):\n",
    "        for index_aux, item_aux in enumerate(aux):\n",
    "            if item_aux_ == item_aux and aux[index]==aux[(index+1)%len(aux)]:\n",
    "                    pos=index_aux\n",
    "                    result.append(pos)\n",
    "                    aux_set = set(result)\n",
    "                    result = list(aux_set)\n",
    "    for ind, item in enumerate(Mylist):\n",
    "        for idx in result:\n",
    "            if ind==idx:\n",
    "                aux_n.insert(idx,item)\n",
    "                for item in aux_n:\n",
    "                    sum_data = sum(aux_n)\n",
    "            else:\n",
    "                sum_data = sum_data   \n",
    "    return sum_data"
   ]
  },
  {
   "cell_type": "code",
   "execution_count": 6,
   "id": "045992e0-f211-4187-ba99-51cbd3ffe97b",
   "metadata": {},
   "outputs": [
    {
     "data": {
      "text/plain": [
       "43"
      ]
     },
     "execution_count": 6,
     "metadata": {},
     "output_type": "execute_result"
    }
   ],
   "source": [
    "data_sum(Mylist=[77,1,8,35])"
   ]
  },
  {
   "cell_type": "code",
   "execution_count": null,
   "id": "aa8f0c47-f82d-4370-853f-4dbc50002ea9",
   "metadata": {},
   "outputs": [],
   "source": []
  }
 ],
 "metadata": {
  "kernelspec": {
   "display_name": "Python 3 (ipykernel)",
   "language": "python",
   "name": "python3"
  },
  "language_info": {
   "codemirror_mode": {
    "name": "ipython",
    "version": 3
   },
   "file_extension": ".py",
   "mimetype": "text/x-python",
   "name": "python",
   "nbconvert_exporter": "python",
   "pygments_lexer": "ipython3",
   "version": "3.9.7"
  }
 },
 "nbformat": 4,
 "nbformat_minor": 5
}
