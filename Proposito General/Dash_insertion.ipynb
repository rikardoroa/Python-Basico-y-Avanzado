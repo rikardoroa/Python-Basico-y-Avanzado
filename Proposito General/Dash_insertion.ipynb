{
 "cells": [
  {
   "cell_type": "code",
   "execution_count": 19,
   "id": "26006eec-2b1b-48f7-b9d3-65ce63f72fbe",
   "metadata": {},
   "outputs": [],
   "source": [
    "class dash_insertion():\n",
    "    \n",
    "    def dashinsertII(num):\n",
    "        \n",
    "        aux_list = []\n",
    "        odd_even=[]\n",
    "        numbers=[]\n",
    "        aux=[]\n",
    "        split=2\n",
    "        num = str(num)\n",
    "        zero='0'\n",
    "        \n",
    "        for i in range(0, len(num), split):\n",
    "            num_split = num[i:i+split]\n",
    "            numbers.append(num_split)\n",
    "       \n",
    "        for index,item in enumerate(numbers):\n",
    "            if zero  in numbers[index]:\n",
    "                pos = index\n",
    "                new_item = numbers[index]\n",
    "                new_item = \",\".join(str(x) for x in new_item)\n",
    "                new_item = new_item.split(\",\",1)\n",
    "                numbers.remove(numbers[index])\n",
    "                numbers.insert(pos,new_item)\n",
    "         \n",
    "        for index, item in enumerate(numbers):\n",
    "           \n",
    "            if isinstance(item, list):\n",
    "                pos = index\n",
    "                aux_list = numbers[index]\n",
    "                numbers.remove(numbers[index])\n",
    "                numbers[index:index]=aux_list\n",
    "              \n",
    "            if zero  in numbers[index]:\n",
    "                    numbers[index-1] = numbers[index-1]+numbers[index]\n",
    "                    numbers.remove(numbers[index])\n",
    "\n",
    "     \n",
    "        numbers = list(map(int, numbers))\n",
    "     \n",
    "        for index,item in enumerate(numbers):\n",
    "            if item%2==1:\n",
    "                item_str = str(item)\n",
    "                pos= index\n",
    "                aux.insert(pos,item_str+'-')\n",
    "            if item%2==0:\n",
    "                item_str = str(item)\n",
    "                pos= index\n",
    "                aux.insert(pos,item_str+'*')\n",
    "        x = \"\".join(str(item) for item in aux)\n",
    "        odd_even = x[:-1]\n",
    "        numbers = odd_even\n",
    "        return numbers\n",
    "    \n",
    "\n",
    "    \n",
    "\n"
   ]
  },
  {
   "cell_type": "code",
   "execution_count": 20,
   "id": "3290882e-5f9d-40ff-909e-f1a5225575de",
   "metadata": {},
   "outputs": [
    {
     "data": {
      "text/plain": [
       "'45-550*6*8'"
      ]
     },
     "execution_count": 20,
     "metadata": {},
     "output_type": "execute_result"
    }
   ],
   "source": [
    "dash = dash_insertion\n",
    "dash.dashinsertII(4555068)"
   ]
  },
  {
   "cell_type": "code",
   "execution_count": null,
   "id": "39f460f2-78cb-4d14-8d2f-cbc640325e54",
   "metadata": {},
   "outputs": [],
   "source": []
  },
  {
   "cell_type": "code",
   "execution_count": null,
   "id": "d71082ed-51eb-41b8-8574-b68961b31ae1",
   "metadata": {},
   "outputs": [],
   "source": []
  }
 ],
 "metadata": {
  "kernelspec": {
   "display_name": "Python 3 (ipykernel)",
   "language": "python",
   "name": "python3"
  },
  "language_info": {
   "codemirror_mode": {
    "name": "ipython",
    "version": 3
   },
   "file_extension": ".py",
   "mimetype": "text/x-python",
   "name": "python",
   "nbconvert_exporter": "python",
   "pygments_lexer": "ipython3",
   "version": "3.9.7"
  }
 },
 "nbformat": 4,
 "nbformat_minor": 5
}
