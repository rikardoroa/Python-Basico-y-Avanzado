{
 "cells": [
  {
   "cell_type": "code",
   "execution_count": 297,
   "id": "interpreted-performance",
   "metadata": {},
   "outputs": [],
   "source": [
    "from functools import reduce\n",
    "import re\n",
    "import keyboard\n",
    "\n",
    "class accm():\n",
    "  \n",
    "    def __init__(self, number=int, mylist = list):\n",
    "        self.number = number\n",
    "        self.mylist = mylist\n",
    "       \n",
    "        \n",
    "    def reducer(self,x,y):\n",
    "        total = reduce((lambda x,y: x+y),[x,y])\n",
    "        numeric_data = []\n",
    "        numeric_data.append(total)\n",
    "        for item in numeric_data:\n",
    "            number = item\n",
    "        self.number = number\n",
    "        return total\n",
    "    \n",
    "        \n",
    "    def accm(self):\n",
    "        number = self.number\n",
    "        n = input(\"Veces a ejecutar la funcion:\")\n",
    "        n = int(n)\n",
    "        all_data = []\n",
    "        for i in range(n):\n",
    "            num = input(\"digite el numero para sumar\")\n",
    "            num = int(num)\n",
    "            print(f\"accm({num})\")\n",
    "            all_data.append(num)\n",
    "            all_sum =sum(all_data)\n",
    "            result = all_sum + number\n",
    "        return result\n",
    "           \n",
    "         \n",
    "\n",
    "\n",
    "    \n",
    "    \n",
    "   \n",
    "        \n",
    "       \n",
    "            \n",
    "\n",
    "    \n",
    " \n",
    "      "
   ]
  },
  {
   "cell_type": "code",
   "execution_count": 298,
   "id": "herbal-skill",
   "metadata": {},
   "outputs": [
    {
     "data": {
      "text/plain": [
       "10"
      ]
     },
     "execution_count": 298,
     "metadata": {},
     "output_type": "execute_result"
    }
   ],
   "source": [
    "total = accm()\n",
    "total.reducer(8,2)\n",
    "\n"
   ]
  },
  {
   "cell_type": "code",
   "execution_count": 299,
   "id": "advisory-absorption",
   "metadata": {},
   "outputs": [
    {
     "name": "stdin",
     "output_type": "stream",
     "text": [
      "Veces a ejecutar la funcion: 3\n",
      "digite el numero para sumar 5\n"
     ]
    },
    {
     "name": "stdout",
     "output_type": "stream",
     "text": [
      "accm(5)\n"
     ]
    },
    {
     "name": "stdin",
     "output_type": "stream",
     "text": [
      "digite el numero para sumar 7\n"
     ]
    },
    {
     "name": "stdout",
     "output_type": "stream",
     "text": [
      "accm(7)\n"
     ]
    },
    {
     "name": "stdin",
     "output_type": "stream",
     "text": [
      "digite el numero para sumar 20\n"
     ]
    },
    {
     "name": "stdout",
     "output_type": "stream",
     "text": [
      "accm(20)\n"
     ]
    },
    {
     "data": {
      "text/plain": [
       "42"
      ]
     },
     "execution_count": 299,
     "metadata": {},
     "output_type": "execute_result"
    }
   ],
   "source": [
    "total.accm()"
   ]
  },
  {
   "cell_type": "code",
   "execution_count": null,
   "id": "amber-adult",
   "metadata": {},
   "outputs": [],
   "source": []
  }
 ],
 "metadata": {
  "kernelspec": {
   "display_name": "Python 3",
   "language": "python",
   "name": "python3"
  },
  "language_info": {
   "codemirror_mode": {
    "name": "ipython",
    "version": 3
   },
   "file_extension": ".py",
   "mimetype": "text/x-python",
   "name": "python",
   "nbconvert_exporter": "python",
   "pygments_lexer": "ipython3",
   "version": "3.8.7"
  }
 },
 "nbformat": 4,
 "nbformat_minor": 5
}
