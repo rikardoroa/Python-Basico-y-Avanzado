{
 "cells": [
  {
   "cell_type": "code",
   "execution_count": 177,
   "metadata": {},
   "outputs": [],
   "source": [
    "def concatena():\n",
    "    Lista = ['R','O','A','Y','C','A','N','T','I','L','L','O']\n",
    "    Lista_x= ''.join(Lista)\n",
    "    return Lista_x\n",
    "\n",
    "def concatena_1():\n",
    "    palabra=\"\"\n",
    "    for i in range(len(Lista)):\n",
    "        palabra = palabra.__add__(Lista[i])\n",
    "    return palabra\n",
    "    \n",
    "def concatena_2():\n",
    "    palabra=\"\"\n",
    "    i=0    \n",
    "    while i < len(Lista):\n",
    "        palabra = palabra.__add__(Lista[i])\n",
    "        i +=1\n",
    "    return palabra\n",
    "    \n",
    "def concatena_3():\n",
    "    palabra=\"\"\n",
    "    for i in range(len(Lista)):\n",
    "        palabra = palabra + (Lista[i])\n",
    "    return palabra\n",
    "        \n",
    "        \n",
    "def concatena_4():\n",
    "    palabra=\"\"\n",
    "    i=0    \n",
    "    while i < len(Lista):\n",
    "        palabra = palabra + (Lista[i])\n",
    "        i +=1\n",
    "    return palabra\n",
    "    \n",
    "        \n",
    "\n"
   ]
  },
  {
   "cell_type": "code",
   "execution_count": 178,
   "metadata": {},
   "outputs": [
    {
     "data": {
      "text/plain": [
       "'ROAYCANTILLO'"
      ]
     },
     "execution_count": 178,
     "metadata": {},
     "output_type": "execute_result"
    }
   ],
   "source": [
    "concatena()"
   ]
  },
  {
   "cell_type": "code",
   "execution_count": 179,
   "metadata": {},
   "outputs": [
    {
     "data": {
      "text/plain": [
       "'ROAYCANTILLO'"
      ]
     },
     "execution_count": 179,
     "metadata": {},
     "output_type": "execute_result"
    }
   ],
   "source": [
    "concatena_1()"
   ]
  },
  {
   "cell_type": "code",
   "execution_count": 180,
   "metadata": {},
   "outputs": [
    {
     "data": {
      "text/plain": [
       "'ROAYCANTILLO'"
      ]
     },
     "execution_count": 180,
     "metadata": {},
     "output_type": "execute_result"
    }
   ],
   "source": [
    "concatena_2()"
   ]
  },
  {
   "cell_type": "code",
   "execution_count": 181,
   "metadata": {},
   "outputs": [
    {
     "data": {
      "text/plain": [
       "'ROAYCANTILLO'"
      ]
     },
     "execution_count": 181,
     "metadata": {},
     "output_type": "execute_result"
    }
   ],
   "source": [
    "concatena_3()"
   ]
  },
  {
   "cell_type": "code",
   "execution_count": 182,
   "metadata": {},
   "outputs": [
    {
     "data": {
      "text/plain": [
       "'ROAYCANTILLO'"
      ]
     },
     "execution_count": 182,
     "metadata": {},
     "output_type": "execute_result"
    }
   ],
   "source": [
    "concatena_4()"
   ]
  },
  {
   "cell_type": "code",
   "execution_count": null,
   "metadata": {},
   "outputs": [],
   "source": []
  }
 ],
 "metadata": {
  "kernelspec": {
   "display_name": "Python 3",
   "language": "python",
   "name": "python3"
  },
  "language_info": {
   "codemirror_mode": {
    "name": "ipython",
    "version": 3
   },
   "file_extension": ".py",
   "mimetype": "text/x-python",
   "name": "python",
   "nbconvert_exporter": "python",
   "pygments_lexer": "ipython3",
   "version": "3.7.9"
  }
 },
 "nbformat": 4,
 "nbformat_minor": 4
}
