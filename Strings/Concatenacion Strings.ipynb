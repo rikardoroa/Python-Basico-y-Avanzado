{
 "cells": [
  {
   "cell_type": "code",
   "execution_count": 149,
   "metadata": {},
   "outputs": [],
   "source": [
    "def concatena():\n",
    "    Lista = ['R','O','A','Y','C','A','N','T','I','L','L','O']\n",
    "    Lista_x= ''.join(Lista)\n",
    "    Lista_x\n",
    "    return Lista_x\n",
    "\n",
    "\n",
    "\n",
    "\n",
    "def concatena_1():\n",
    "    palabra=\"\"\n",
    "    palabra2=\"\"\n",
    "    for i in range(len(Lista)):\n",
    "        palabra = palabra.__add__(Lista[i])\n",
    "    return palabra\n",
    "    \n",
    "def concatena_2():\n",
    "    palabra=\"\"\n",
    "    palabra2=\"\"\n",
    "    i=0    \n",
    "    while i < len(Lista):\n",
    "        palabra2 = palabra2.__add__(Lista[i])\n",
    "        i +=1\n",
    "    return palabra\n",
    "    \n",
    "def concatena_3():\n",
    "    palabra=\"\"\n",
    "    palabra2=\"\"\n",
    "    for i in range(len(Lista)):\n",
    "        palabra = palabra + (Lista[i])\n",
    "    return palabra\n",
    "        \n",
    "        \n",
    "def concatena_4():\n",
    "    palabra=\"\"\n",
    "    palabra2=\"\"\n",
    "    i=0    \n",
    "    while i < len(Lista):\n",
    "        palabra2 = palabra2 + (Lista[i])\n",
    "        i +=1\n",
    "    return palabra\n",
    "    \n",
    "        \n",
    "\n"
   ]
  },
  {
   "cell_type": "code",
   "execution_count": 150,
   "metadata": {},
   "outputs": [
    {
     "data": {
      "text/plain": [
       "'ROAYCANTILLO'"
      ]
     },
     "execution_count": 150,
     "metadata": {},
     "output_type": "execute_result"
    }
   ],
   "source": [
    "concatena()"
   ]
  },
  {
   "cell_type": "code",
   "execution_count": 151,
   "metadata": {},
   "outputs": [
    {
     "data": {
      "text/plain": [
       "'ROAYCANTILLO'"
      ]
     },
     "execution_count": 151,
     "metadata": {},
     "output_type": "execute_result"
    }
   ],
   "source": [
    "concatena_1()"
   ]
  },
  {
   "cell_type": "code",
   "execution_count": 152,
   "metadata": {},
   "outputs": [
    {
     "ename": "NameError",
     "evalue": "name 'contatena_2' is not defined",
     "output_type": "error",
     "traceback": [
      "\u001b[1;31m---------------------------------------------------------------------------\u001b[0m",
      "\u001b[1;31mNameError\u001b[0m                                 Traceback (most recent call last)",
      "\u001b[1;32m<ipython-input-152-b461187a32fe>\u001b[0m in \u001b[0;36m<module>\u001b[1;34m\u001b[0m\n\u001b[1;32m----> 1\u001b[1;33m \u001b[0mcontatena_2\u001b[0m\u001b[1;33m(\u001b[0m\u001b[1;33m)\u001b[0m\u001b[1;33m\u001b[0m\u001b[1;33m\u001b[0m\u001b[0m\n\u001b[0m",
      "\u001b[1;31mNameError\u001b[0m: name 'contatena_2' is not defined"
     ]
    }
   ],
   "source": [
    "contatena_2()"
   ]
  },
  {
   "cell_type": "code",
   "execution_count": null,
   "metadata": {},
   "outputs": [],
   "source": [
    "contatena_3()"
   ]
  },
  {
   "cell_type": "code",
   "execution_count": null,
   "metadata": {},
   "outputs": [],
   "source": [
    "contatena_4()"
   ]
  }
 ],
 "metadata": {
  "kernelspec": {
   "display_name": "Python 3",
   "language": "python",
   "name": "python3"
  },
  "language_info": {
   "codemirror_mode": {
    "name": "ipython",
    "version": 3
   },
   "file_extension": ".py",
   "mimetype": "text/x-python",
   "name": "python",
   "nbconvert_exporter": "python",
   "pygments_lexer": "ipython3",
   "version": "3.7.9"
  }
 },
 "nbformat": 4,
 "nbformat_minor": 4
}
