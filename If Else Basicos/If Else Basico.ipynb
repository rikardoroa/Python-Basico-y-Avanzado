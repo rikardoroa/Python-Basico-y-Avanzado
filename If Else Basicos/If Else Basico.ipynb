{
 "cells": [
  {
   "cell_type": "code",
   "execution_count": 788,
   "metadata": {},
   "outputs": [],
   "source": [
    "Lista =[5,6,7,53]\n",
    "\n",
    "def num_primo():\n",
    "    for item in Lista:\n",
    "        if item%item==0 and item%1==0 and item%2!=0 and item > 2:\n",
    "            print(\"ES PRIMO\")\n",
    "        else:\n",
    "            print(\"NO_ES_PRIMO\")"
   ]
  },
  {
   "cell_type": "code",
   "execution_count": 790,
   "metadata": {},
   "outputs": [
    {
     "name": "stdout",
     "output_type": "stream",
     "text": [
      "ES PRIMO\n",
      "NO_ES_PRIMO\n",
      "ES PRIMO\n",
      "ES PRIMO\n"
     ]
    }
   ],
   "source": [
    "num_primo()"
   ]
  },
  {
   "cell_type": "code",
   "execution_count": null,
   "metadata": {},
   "outputs": [],
   "source": []
  }
 ],
 "metadata": {
  "kernelspec": {
   "display_name": "Python 3",
   "language": "python",
   "name": "python3"
  },
  "language_info": {
   "codemirror_mode": {
    "name": "ipython",
    "version": 3
   },
   "file_extension": ".py",
   "mimetype": "text/x-python",
   "name": "python",
   "nbconvert_exporter": "python",
   "pygments_lexer": "ipython3",
   "version": "3.7.9"
  }
 },
 "nbformat": 4,
 "nbformat_minor": 4
}
