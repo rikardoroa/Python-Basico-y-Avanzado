{
 "cells": [
  {
   "cell_type": "code",
   "execution_count": 1,
   "metadata": {},
   "outputs": [],
   "source": [
    "Lista =[5,6,7,53]\n",
    "\n",
    "def num_primo():\n",
    "    for item in Lista:\n",
    "        if item%item==0 and item%1==0 and item%2!=0 and item > 2:\n",
    "            print(\"ES PRIMO\")\n",
    "        else:\n",
    "            print(\"NO_ES_PRIMO\")"
   ]
  },
  {
   "cell_type": "code",
   "execution_count": 2,
   "metadata": {},
   "outputs": [
    {
     "name": "stdout",
     "output_type": "stream",
     "text": [
      "ES PRIMO\n",
      "NO_ES_PRIMO\n",
      "ES PRIMO\n",
      "ES PRIMO\n"
     ]
    }
   ],
   "source": [
    "num_primo()"
   ]
  },
  {
   "cell_type": "code",
   "execution_count": null,
   "metadata": {},
   "outputs": [],
   "source": []
  },
  {
   "cell_type": "code",
   "execution_count": 786,
   "metadata": {},
   "outputs": [],
   "source": [
    "\"\"\"Script creado por @rikardoroa\"\"\"\n",
    "\"\"\"Juego de la vida Version 1.0\"\"\"\n",
    "\n",
    "import emoji\n",
    "import numpy as np\n",
    "\n",
    "def creacion_sub_arreglos_juego_vida():\n",
    "    #este juego consiste en mover tantas posiciones a la izquierda donde se encuentra el uno\n",
    "    print(\"I love Learning Python\" , emoji.emojize(\"\\U0001F970, \\U0001F40D, \\U0001F60E, \\U0001F600, \\U0001F60F, \\U0001f4bb\", use_aliases=True)+\"\\n\")\n",
    "    #declaracion de numpy arrays\n",
    "    a = np.array([1,0,0])\n",
    "    b = np.array([0,1,1])\n",
    "    c = np.array([1,1,0])\n",
    "    z= np.array([])\n",
    "    z1= np.array([])\n",
    "    r= np.array([])\n",
    "    k = np.array([])\n",
    "    t = np.array([])\n",
    "    s = np.array([])\n",
    "    #recorriendo y validando arrays a,b,c y anexandolos al array z\n",
    "    for i in range(len(a)):\n",
    "        for col in range(a.shape[0]):\n",
    "            for item in a:\n",
    "                if  a[i] == 1:\n",
    "                    a[:i+1]= 0\n",
    "                elif a[i] == 0:\n",
    "                    a[:i]= 1\n",
    "    for i in range(len(a)):\n",
    "        for col in range(a.shape[0]):\n",
    "            for item in a:\n",
    "                if  a[i] == 1:\n",
    "                    a[:i]= 0\n",
    "    for item in a:\n",
    "        z = np.append(z,item)\n",
    "    for i in range(len(b)):\n",
    "        for col in range(b.shape[0]):\n",
    "            for item in b:\n",
    "                if  b[i] == 1:\n",
    "                    b[:i]= 0\n",
    "    for b_item in b:\n",
    "         z = np.append(z,b_item)\n",
    "    for i in range(len(c)):\n",
    "        for col in range(c.shape[0]):\n",
    "            for item in c:\n",
    "                if  c[i] == 0:\n",
    "                    c[:i+1]= 1\n",
    "    for c_item in c:\n",
    "         z = np.append(z,c_item)\n",
    "    z = z.reshape((3, 3))\n",
    "    z= np.round(z.astype(int))\n",
    "    \n",
    "    #aqui empieza la segunda validacion donde se toma el array z como nuevo inicio y se subdivide\n",
    "    #para crear el array z1\n",
    "    for i in range(len(z)):\n",
    "        for fila in range(len(z)):\n",
    "            if i <len(z):\n",
    "                r = np.append(z, z[i:fila])\n",
    "                r = np.split(z,len(z))\n",
    "                r = np.array(r)\n",
    "    for col in range(r.shape[0]):\n",
    "            if col == 0:\n",
    "                k=np.append(k,r[col]).astype(int)\n",
    "                for i in range(len(k)):\n",
    "                    for col in range(k.shape[0]):\n",
    "                        for item in k:\n",
    "                            if  k[i] == 0:\n",
    "                                k[:i] = 0\n",
    "                for item in k:\n",
    "                    z1 = np.append(z1,item).astype(int)\n",
    "            elif col == 1:\n",
    "                t = np.append(t,r[col]).astype(int)\n",
    "                for i in range(len(t)):\n",
    "                    for col in range(t.shape[0]):\n",
    "                        for item in t:\n",
    "                            if  t[i] == 0:\n",
    "                                t[:i] = 1 \n",
    "                for item in t:\n",
    "                    z1= np.append(z1,item).astype(int)\n",
    "            elif col == 2:\n",
    "                s= np.append(s,r[col]).astype(int)\n",
    "                for i in range(len(s)):\n",
    "                    for col in range(s.shape[0]):\n",
    "                        for item in s:\n",
    "                            if  s[i] == 1:\n",
    "                                aux = s[i]\n",
    "                                aux2 = 0\n",
    "                                s[i] = aux2\n",
    "                                s[:i] = aux\n",
    "                                s = s[::-1]\n",
    "                for item in s:\n",
    "                    z1 = np.append(z1,item).astype(int)\n",
    "    z1 = z1.reshape((3, 3))\n",
    "    #Se imprime en Pantalla la salida de los dos arrays(arreglos)\n",
    "    print(z,\":Salida Uno\")\n",
    "    print(z1,\":Salida dos\")\n",
    "\n",
    "\n",
    "\n",
    "            \n",
    "\n",
    "\n",
    "\n",
    "           \n",
    "            \n",
    "        \n",
    "\n",
    "\n",
    "            \n",
    "         \n",
    "            \n",
    "        "
   ]
  },
  {
   "cell_type": "code",
   "execution_count": 787,
   "metadata": {},
   "outputs": [
    {
     "name": "stdout",
     "output_type": "stream",
     "text": [
      "I love Learning Python 🥰, 🐍, 😎, 😀, 😏, 💻\n",
      "\n",
      "[[0 1 0]\n",
      " [0 0 1]\n",
      " [1 1 1]] :Salida Uno\n",
      "[[0 0 0]\n",
      " [1 0 1]\n",
      " [0 1 1]] :Salida dos\n"
     ]
    }
   ],
   "source": [
    "creacion_sub_arreglos_juego_vida()"
   ]
  },
  {
   "cell_type": "code",
   "execution_count": null,
   "metadata": {},
   "outputs": [],
   "source": []
  }
 ],
 "metadata": {
  "kernelspec": {
   "display_name": "Python 3",
   "language": "python",
   "name": "python3"
  },
  "language_info": {
   "codemirror_mode": {
    "name": "ipython",
    "version": 3
   },
   "file_extension": ".py",
   "mimetype": "text/x-python",
   "name": "python",
   "nbconvert_exporter": "python",
   "pygments_lexer": "ipython3",
   "version": "3.7.9"
  }
 },
 "nbformat": 4,
 "nbformat_minor": 4
}
