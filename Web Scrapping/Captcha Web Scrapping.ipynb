{
 "cells": [
  {
   "cell_type": "code",
   "execution_count": 7,
   "id": "rough-portugal",
   "metadata": {},
   "outputs": [
    {
     "name": "stdout",
     "output_type": "stream",
     "text": [
      "bbyZGkgUEF4e-;\n",
      "\f",
      "\n"
     ]
    }
   ],
   "source": [
    "# Script por rikardoroa\n",
    "# Captcha web Scrapping with python\n",
    "from urllib.request import urlopen\n",
    "from bs4 import BeautifulSoup\n",
    "import base64\n",
    "import cv2\n",
    "import pytesseract as pyt\n",
    "pyt.pytesseract.tesseract_cmd = r'C:\\Program Files\\Tesseract-OCR\\tesseract.exe'\n",
    "\n",
    "tomar_imagen = urlopen('http://challenge01.root-me.org/programmation/ch8/')\n",
    "soup = BeautifulSoup(tomar_imagen)\n",
    "img = soup.find('img')['src'].split(',')[1]\n",
    "\n",
    "with open('captcha.png', 'wb') as guardar:\n",
    "    decodificar = base64.b64decode(img)\n",
    "    guardar.write(decodificar)\n",
    "    \n",
    "    \n",
    "leer_img = cv2.imread('captcha.png')\n",
    "texto_captcha = pyt.image_to_string(leer_img)\n",
    "print(texto_captcha)"
   ]
  },
  {
   "cell_type": "code",
   "execution_count": null,
   "id": "described-briefs",
   "metadata": {},
   "outputs": [],
   "source": []
  },
  {
   "cell_type": "code",
   "execution_count": null,
   "id": "hawaiian-buffer",
   "metadata": {},
   "outputs": [],
   "source": []
  }
 ],
 "metadata": {
  "kernelspec": {
   "display_name": "Python 3",
   "language": "python",
   "name": "python3"
  },
  "language_info": {
   "codemirror_mode": {
    "name": "ipython",
    "version": 3
   },
   "file_extension": ".py",
   "mimetype": "text/x-python",
   "name": "python",
   "nbconvert_exporter": "python",
   "pygments_lexer": "ipython3",
   "version": "3.8.7"
  }
 },
 "nbformat": 4,
 "nbformat_minor": 5
}
